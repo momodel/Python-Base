{
 "cells": [
  {
   "cell_type": "markdown",
   "metadata": {},
   "source": [
    "\n",
    "## 遍历序列\n",
    "\n",
    "* `for..in`用来遍历一个序列\n",
    "  * 对于字符串，遍历的是每一个字符\n",
    "  * 对于列表，遍历的是每一个元素\n",
    "\n"
   ]
  },
  {
   "cell_type": "code",
   "execution_count": null,
   "metadata": {
    "slideshow": {
     "slide_type": "fragment"
    }
   },
   "outputs": [],
   "source": [
    "s = 'hello'\n",
    "t = [1,2,3,'start',5]\n",
    "for x in s:\n",
    "  print(x, end=',')\n",
    "print() # 换行\n",
    "for x in t:\n",
    "  print(x, end=',')"
   ]
  },
  {
   "cell_type": "markdown",
   "metadata": {},
   "source": [
    "\n",
    "## 遍历\n",
    "\n",
    "* W3 7-2：对于给定的正整数N，求它的位数及其各位数字之和\n",
    "\n"
   ]
  },
  {
   "cell_type": "code",
   "execution_count": null,
   "metadata": {
    "slideshow": {
     "slide_type": "fragment"
    }
   },
   "outputs": [],
   "source": [
    "shuzi =input()\n",
    "i = 0 \n",
    "s = 0\n",
    "while i < len(shuzi):\n",
    "    s = s + int(shuzi[i])\n",
    "    i = i+1\n",
    "print(f'{i:.0f} {s:.0f}')"
   ]
  },
  {
   "cell_type": "markdown",
   "metadata": {
    "slideshow": {
     "slide_type": "fragment"
    }
   },
   "source": [
    "\n",
    "\n",
    "* 更好的写法是用`for...in`遍历\n",
    "\n"
   ]
  },
  {
   "cell_type": "markdown",
   "metadata": {},
   "source": [
    "\n",
    "## 遍历\n",
    "\n"
   ]
  },
  {
   "cell_type": "code",
   "execution_count": null,
   "metadata": {
    "slideshow": {
     "slide_type": "fragment"
    }
   },
   "outputs": [],
   "source": [
    "shuzi =input()\n",
    "#i = 0 \n",
    "s = 0\n",
    "#while i < len(shuzi):\n",
    "#    s = s + int(shuzi[i])\n",
    "#    i = i+1\n",
    "for x in shuzi:\n",
    "  s += int(x)\n",
    "#print(f'{i:.0f} {s:.0f}')\n",
    "print(len(shuzi), s)"
   ]
  }
 ],
 "metadata": {
  "kernelspec": {
   "display_name": "Python 3",
   "language": "python",
   "name": "python3"
  },
  "language_info": {
   "codemirror_mode": {
    "name": "ipython",
    "version": 3
   },
   "file_extension": ".py",
   "mimetype": "text/x-python",
   "name": "python",
   "nbconvert_exporter": "python",
   "pygments_lexer": "ipython3",
   "version": "3.7.5"
  }
 },
 "nbformat": 4,
 "nbformat_minor": 2
}
