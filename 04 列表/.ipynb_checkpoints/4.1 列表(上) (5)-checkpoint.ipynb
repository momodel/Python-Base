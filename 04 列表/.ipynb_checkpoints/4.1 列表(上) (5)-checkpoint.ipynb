{
 "cells": [
  {
   "cell_type": "markdown",
   "metadata": {},
   "source": [
    "\n",
    "## 连接\n",
    "\n",
    "* 加号可以用来连接两个序列容器成为一个新的大的容器\n",
    "\n"
   ]
  },
  {
   "cell_type": "code",
   "execution_count": null,
   "metadata": {
    "slideshow": {
     "slide_type": "fragment"
    }
   },
   "outputs": [],
   "source": [
    "s1 = 'Hello'\n",
    "s2 = 'Bye'\n",
    "print(s1+s2)\n",
    "t1 = [1,2,3]\n",
    "t2 = [5,6]\n",
    "print(t1+t2)"
   ]
  },
  {
   "cell_type": "markdown",
   "metadata": {
    "slideshow": {
     "slide_type": "fragment"
    }
   },
   "source": [
    "\n",
    "* 和数字的加法一样，对两个序列容器做加法，不会修改那两个容器本身\n",
    "\n"
   ]
  },
  {
   "cell_type": "markdown",
   "metadata": {},
   "source": [
    "\n",
    "## 重复\n",
    "\n",
    "* 一个序列容器乘以一个整数，可以形成一个新的重复若干遍的容器\n",
    "\n"
   ]
  },
  {
   "cell_type": "code",
   "execution_count": null,
   "metadata": {
    "slideshow": {
     "slide_type": "fragment"
    }
   },
   "outputs": [],
   "source": [
    "print('6'*23)\n",
    "print([1,2]*3)"
   ]
  },
  {
   "cell_type": "markdown",
   "metadata": {
    "slideshow": {
     "slide_type": "fragment"
    }
   },
   "source": [
    "\n",
    "\n",
    "* 同样这个运算也不会修改原本的容器内容。\n",
    "\n"
   ]
  },
  {
   "cell_type": "markdown",
   "metadata": {},
   "source": [
    "\n",
    "## 存在\n",
    "\n",
    "* `in`和`not in`判断数据是否在序列中\n",
    "\n"
   ]
  },
  {
   "cell_type": "code",
   "execution_count": null,
   "metadata": {
    "slideshow": {
     "slide_type": "fragment"
    }
   },
   "outputs": [],
   "source": [
    "print('e' in 'Hello')\n",
    "print(1 in [1,2,3])\n",
    "print('el' not in 'Hello')\n",
    "print([1,2] in [1,2,3])"
   ]
  },
  {
   "cell_type": "markdown",
   "metadata": {
    "slideshow": {
     "slide_type": "fragment"
    }
   },
   "source": [
    "\n",
    "\n",
    "* 当需要判断多个元素的组合时，字符串和列表有所不同。\n",
    "\n"
   ]
  },
  {
   "cell_type": "markdown",
   "metadata": {},
   "source": [
    "\n",
    "## 比较关系\n",
    "\n",
    "* 判断是否相等或大小关系\n",
    "\n"
   ]
  },
  {
   "cell_type": "code",
   "execution_count": null,
   "metadata": {
    "slideshow": {
     "slide_type": "fragment"
    }
   },
   "outputs": [],
   "source": [
    "print('12'>'1')\n",
    "print([1,2]>[2])\n",
    "print([1,2]<[2])\n",
    "print([2,2]>[2])\n",
    "print('12'=='120')\n",
    "print('123'>'12')"
   ]
  },
  {
   "cell_type": "markdown",
   "metadata": {
    "slideshow": {
     "slide_type": "fragment"
    }
   },
   "source": [
    "\n",
    "\n",
    "* 比较是从左到右逐个元素（字符）比较的，一旦在某个位置上的元素已经可以比较出结果，就不再比较下去了\n",
    "* 当两个序列不等长时，比较到多出来的那个位置为止，此时短的序列的元素值以0计算\n",
    "* 对于字符串中的字符，是按照它们的Unicode编码来比较的\n",
    "\n"
   ]
  }
 ],
 "metadata": {
  "kernelspec": {
   "display_name": "Python 3",
   "language": "python",
   "name": "python3"
  },
  "language_info": {
   "codemirror_mode": {
    "name": "ipython",
    "version": 3
   },
   "file_extension": ".py",
   "mimetype": "text/x-python",
   "name": "python",
   "nbconvert_exporter": "python",
   "pygments_lexer": "ipython3",
   "version": "3.7.5"
  }
 },
 "nbformat": 4,
 "nbformat_minor": 2
}
