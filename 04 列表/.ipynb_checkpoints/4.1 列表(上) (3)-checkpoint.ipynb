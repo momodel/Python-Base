{
 "cells": [
  {
   "cell_type": "markdown",
   "metadata": {},
   "source": [
    "\n",
    "## 列表\n",
    "\n"
   ]
  },
  {
   "cell_type": "code",
   "execution_count": null,
   "metadata": {
    "slideshow": {
     "slide_type": "fragment"
    }
   },
   "outputs": [],
   "source": [
    "s=cnt=0\n",
    "lst = []  # 制造一个空列表，用于存放数据\n",
    "while True:\n",
    "    x = int(input())\n",
    "    if x == -1:\n",
    "        break\n",
    "    lst.append(x) # 把x加入到lst中\n",
    "    cnt += 1\n",
    "    s += x\n",
    "print(s/cnt)\n",
    "print(lst)"
   ]
  },
  {
   "cell_type": "markdown",
   "metadata": {},
   "source": [
    "\n",
    "## 列表list\n",
    "\n",
    "* `[1, 2, 3, 4]`就是一个列表\n",
    "* 列表是一个容器类型，它里面可以存放很多数据，数据可以是不同的类型\n",
    "* `lst=[]`，创建了一个空列表\n",
    "* `[]`，列表字面量用`[]`表示，里面的元素之间用逗号`,`分隔\n",
    "* 用`print()`直接输出整个列表的时候，也会输出两端的`[]`\n",
    "\n"
   ]
  },
  {
   "cell_type": "code",
   "execution_count": null,
   "metadata": {
    "slideshow": {
     "slide_type": "fragment"
    }
   },
   "outputs": [],
   "source": [
    "lst=[1,2,3,'a']\n",
    "print(lst)"
   ]
  }
 ],
 "metadata": {
  "kernelspec": {
   "display_name": "Python 3",
   "language": "python",
   "name": "python3"
  },
  "language_info": {
   "codemirror_mode": {
    "name": "ipython",
    "version": 3
   },
   "file_extension": ".py",
   "mimetype": "text/x-python",
   "name": "python",
   "nbconvert_exporter": "python",
   "pygments_lexer": "ipython3",
   "version": "3.7.5"
  }
 },
 "nbformat": 4,
 "nbformat_minor": 2
}
