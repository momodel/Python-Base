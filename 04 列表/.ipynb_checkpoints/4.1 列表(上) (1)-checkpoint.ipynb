{
 "cells": [
  {
   "cell_type": "markdown",
   "metadata": {},
   "source": [
    "\n",
    "<center style=\"font-size:30px\">列表（上）</center>\n",
    "\n"
   ]
  },
  {
   "cell_type": "markdown",
   "metadata": {},
   "source": [
    "<!-- paginate: true -->\n",
    "\n",
    "## 计算平均数\n",
    "\n",
    "* 计算平均数是实验数据处理中最常（jiǎn)见(dān)的操作\n",
    "$average =  \\frac {\\displaystyle \\sum _{i=0}^{n} a_i} {n}$\n",
    "* 输入数据为很多行，每一行一个非负整数\n",
    "* 最后一行为`-1`，表示输入结束，这个`-1`不是有效数据的一部分\n",
    "* `1 3 2 5 11 6 -1` （实际数据在不同的行中）\n",
    "* 计算平均数不需要记录读到的每一个数据\n",
    "\n"
   ]
  },
  {
   "cell_type": "markdown",
   "metadata": {},
   "source": [
    "\n",
    "## 计算平均数\n",
    "\n"
   ]
  },
  {
   "cell_type": "code",
   "execution_count": null,
   "metadata": {
    "slideshow": {
     "slide_type": "fragment"
    }
   },
   "outputs": [],
   "source": [
    "s=cnt=0\n",
    "while True:\n",
    "    x = int(input())\n",
    "    if x == -1:\n",
    "        break\n",
    "    cnt += 1\n",
    "    s += x\n",
    "print(s/cnt)"
   ]
  }
 ],
 "metadata": {
  "kernelspec": {
   "display_name": "Python 3",
   "language": "python",
   "name": "python3"
  },
  "language_info": {
   "codemirror_mode": {
    "name": "ipython",
    "version": 3
   },
   "file_extension": ".py",
   "mimetype": "text/x-python",
   "name": "python",
   "nbconvert_exporter": "python",
   "pygments_lexer": "ipython3",
   "version": "3.7.5"
  }
 },
 "nbformat": 4,
 "nbformat_minor": 2
}
