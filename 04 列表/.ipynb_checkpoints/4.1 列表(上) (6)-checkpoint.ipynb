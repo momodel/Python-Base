{
 "cells": [
  {
   "cell_type": "markdown",
   "metadata": {},
   "source": [
    "\n",
    "## 取单个元素\n",
    "\n",
    "* 方括号用来取出序列容器中的一个或一部分元素。在方括号中放一个整数，就可以取出其中的一个元素\n",
    "\n"
   ]
  },
  {
   "cell_type": "code",
   "execution_count": null,
   "metadata": {
    "slideshow": {
     "slide_type": "fragment"
    }
   },
   "outputs": [],
   "source": [
    "s = 'Hello'\n",
    "print(s[2])\n",
    "t = [1, 2, 3]\n",
    "print(t[2])"
   ]
  },
  {
   "cell_type": "markdown",
   "metadata": {
    "slideshow": {
     "slide_type": "fragment"
    }
   },
   "source": [
    "\n",
    "\n",
    "* 方括号中的数字，是序列容器中元素的编号\n",
    "\n"
   ]
  },
  {
   "cell_type": "markdown",
   "metadata": {},
   "source": [
    "\n",
    "## 下标从0开始\n",
    "\n",
    "| 0 |  1    |   2   |  3    |  4    |   5   |   6   |   7   |  8    | 9     |  10    |  11    |  12    |  13    |  14    |  15    |  16    |  17    |\n",
    "| ---- | ---- | ---- | ---- | ---- | ---- | ---- | ---- | ---- | ---- | ---- | ---- | ---- | ---- | ---- | ---- | ---- | ---- |\n",
    "| 1     |  6    |   0   |  1    |  0    |  2    |  1    |  9    |  9    |  9    |  5    |  0    |  8    |  0    |  1    |  1    |  1    |  8    |\n",
    "\n",
    "* 这个编号是从0开始的，也就是说，列表中的第一个元素、字符串中的第一个字符，它们的编号是0。这个编号，我们叫做下标。第一个元素，是下标为0的元素，是第0号元素。第1个、第0号，“个”和“号”，我们用这种办法来区分\n",
    "\n",
    "* 方括号可以对一个变量做，也可以直接在字面量上做。\n",
    "\n"
   ]
  },
  {
   "cell_type": "code",
   "execution_count": null,
   "metadata": {
    "slideshow": {
     "slide_type": "fragment"
    }
   },
   "outputs": [],
   "source": [
    "print('Hello'[2])\n",
    "print([1, 2, 3][2])"
   ]
  },
  {
   "cell_type": "markdown",
   "metadata": {},
   "source": [
    "\n",
    "## 越界\n",
    "\n",
    "* 因为下标是从0开始的，因此最大的下标就是元素个数减1。如果列表中有5个元素，最后那个元素的下标就是4。如果在方括号中给出了超过最大下标的整数，会发生什么呢？\n",
    "\n"
   ]
  },
  {
   "cell_type": "code",
   "execution_count": null,
   "metadata": {
    "slideshow": {
     "slide_type": "fragment"
    }
   },
   "outputs": [],
   "source": [
    "t = [1,2,3]\n",
    "print(t[3])"
   ]
  },
  {
   "cell_type": "markdown",
   "metadata": {
    "slideshow": {
     "slide_type": "fragment"
    }
   },
   "source": [
    "\n",
    "\n",
    "* 出现的这种红色文字叫做异常，在后面有章节具体学习异常\n",
    "\n"
   ]
  },
  {
   "cell_type": "markdown",
   "metadata": {},
   "source": [
    "\n",
    "## 负的下标\n",
    "\n",
    "* 最小的下标是0，如果方括号中给出了小于0的负数呢？\n",
    "\n"
   ]
  },
  {
   "cell_type": "code",
   "execution_count": null,
   "metadata": {
    "slideshow": {
     "slide_type": "fragment"
    }
   },
   "outputs": [],
   "source": [
    "t = [1,2,3]\n",
    "print(t[-1])"
   ]
  }
 ],
 "metadata": {
  "kernelspec": {
   "display_name": "Python 3",
   "language": "python",
   "name": "python3"
  },
  "language_info": {
   "codemirror_mode": {
    "name": "ipython",
    "version": 3
   },
   "file_extension": ".py",
   "mimetype": "text/x-python",
   "name": "python",
   "nbconvert_exporter": "python",
   "pygments_lexer": "ipython3",
   "version": "3.7.5"
  }
 },
 "nbformat": 4,
 "nbformat_minor": 2
}
