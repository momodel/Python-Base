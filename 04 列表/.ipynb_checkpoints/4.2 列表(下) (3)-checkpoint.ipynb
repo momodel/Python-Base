{
 "cells": [
  {
   "cell_type": "markdown",
   "metadata": {},
   "source": [
    "\n",
    "## 计算方差\n",
    "\n",
    "$$\n",
    "\\sigma^2 = \\frac {\\sum(X-\\mu)^2 }{n}\n",
    "$$\n",
    "\n",
    "\n"
   ]
  },
  {
   "cell_type": "code",
   "execution_count": null,
   "metadata": {
    "slideshow": {
     "slide_type": "fragment"
    }
   },
   "outputs": [],
   "source": [
    "lst = []  # 制造一个空列表，用于存放数据\n",
    "while True:\n",
    "    x = int(input())\n",
    "    if x == -1:\n",
    "        break\n",
    "    lst.append(x) # 把x加入到lst中\n",
    "average = sum(lst)/len(lst)\n",
    "t = 0\n",
    "for x in lst:\n",
    "  t += (x - average)**2\n",
    "print(t/len(lst))"
   ]
  },
  {
   "cell_type": "markdown",
   "metadata": {},
   "source": [
    "\n",
    "## 数列\n",
    "\n",
    "* 数列（sequence of number），是以正整数集（或它的有限子集）为定义域的函数，是一列有序的数：`1, 1, 2, 3, 5, 8...`\n",
    "* 数列中的每一个数都叫做这个数列的项。排在第一位的数称为这个数列的第1项（通常也叫做首项），排在第二位的数称为这个数列的第2项，以此类推，排在第n位的数称为这个数列的第n项，通常用$a_n$表示\n",
    "* 项数有限的数列为“有穷数列”（finite sequence）\n",
    "* 数列通常有三种表示方法：列表法、图像法、解析法。其中解析法包括以通项公式给出数列和以递推公式给出数列\n",
    "* 如何构造一个单调有穷数列，如`1,2,3,4,5,6`或`2,4,6,8,10`\n",
    "\n"
   ]
  },
  {
   "cell_type": "markdown",
   "metadata": {},
   "source": [
    "\n",
    "## 构造数列\n",
    "\n",
    "* 显然`while`配合一个计数值可以用来构造数列\n",
    "\n"
   ]
  },
  {
   "cell_type": "code",
   "execution_count": null,
   "metadata": {
    "slideshow": {
     "slide_type": "fragment"
    }
   },
   "outputs": [],
   "source": [
    "t = []\n",
    "i = 1\n",
    "while i < 7:\n",
    "  t.append(i)\n",
    "  i += 1\n",
    "print(t)"
   ]
  },
  {
   "cell_type": "markdown",
   "metadata": {
    "slideshow": {
     "slide_type": "fragment"
    }
   },
   "source": [
    "\n",
    "\n",
    "* 如何得到`2,4,6,8,10`\n",
    "\n"
   ]
  }
 ],
 "metadata": {
  "kernelspec": {
   "display_name": "Python 3",
   "language": "python",
   "name": "python3"
  },
  "language_info": {
   "codemirror_mode": {
    "name": "ipython",
    "version": 3
   },
   "file_extension": ".py",
   "mimetype": "text/x-python",
   "name": "python",
   "nbconvert_exporter": "python",
   "pygments_lexer": "ipython3",
   "version": "3.7.5"
  }
 },
 "nbformat": 4,
 "nbformat_minor": 2
}
