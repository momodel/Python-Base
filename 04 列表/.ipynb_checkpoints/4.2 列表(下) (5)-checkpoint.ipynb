{
 "cells": [
  {
   "cell_type": "markdown",
   "metadata": {},
   "source": [
    "\n",
    "## 遍历数列\n",
    "\n",
    "* 如果只是要遍历`range()`产生的数列，并不需要转成列表\n",
    "\n",
    "$$\n",
    "s = \\displaystyle \\sum_{i=1}^n\\frac{1}{i}\n",
    "$$\n",
    "\n"
   ]
  },
  {
   "cell_type": "code",
   "execution_count": null,
   "metadata": {
    "slideshow": {
     "slide_type": "fragment"
    }
   },
   "outputs": [],
   "source": [
    "s = 0\n",
    "n = int(input())\n",
    "# t = list(range(1,n+1))\n",
    "# for i in t:\n",
    "for i in range(1,n+1):\n",
    "  s += 1/i\n",
    "print(s)"
   ]
  },
  {
   "cell_type": "markdown",
   "metadata": {},
   "source": [
    "\n",
    "## 错误使用\n",
    "\n",
    "* 对一个容器用`range()`产生其所有下标的数列再遍历是错误的\n",
    "\n"
   ]
  },
  {
   "cell_type": "code",
   "execution_count": null,
   "metadata": {
    "slideshow": {
     "slide_type": "fragment"
    }
   },
   "outputs": [],
   "source": [
    "x = 'Zhejiang'\n",
    "for i in range(len(x)):\n",
    "  print(x[i])"
   ]
  },
  {
   "cell_type": "markdown",
   "metadata": {
    "slideshow": {
     "slide_type": "fragment"
    }
   },
   "source": [
    "\n",
    "\n",
    "* 应该怎么改？\n",
    "\n"
   ]
  },
  {
   "cell_type": "markdown",
   "metadata": {},
   "source": [
    "\n",
    "## 总结`range()`的两个常见错误\n",
    "\n",
    "* 把`range()`的结果转成列表再遍历\n",
    "* 对容器（如列表）用`range`产生其所有下标的数列再遍历\n",
    "\n"
   ]
  },
  {
   "cell_type": "markdown",
   "metadata": {},
   "source": [
    "\n",
    "## What we've learned today\n",
    "\n",
    "* 列表\n",
    "* 序列的访问及运算符\n",
    "* for循环"
   ]
  }
 ],
 "metadata": {
  "kernelspec": {
   "display_name": "Python 3",
   "language": "python",
   "name": "python3"
  },
  "language_info": {
   "codemirror_mode": {
    "name": "ipython",
    "version": 3
   },
   "file_extension": ".py",
   "mimetype": "text/x-python",
   "name": "python",
   "nbconvert_exporter": "python",
   "pygments_lexer": "ipython3",
   "version": "3.7.5"
  }
 },
 "nbformat": 4,
 "nbformat_minor": 2
}
