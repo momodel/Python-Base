{
 "cells": [
  {
   "cell_type": "markdown",
   "metadata": {},
   "source": [
    "\n",
    "## 序列类型容器\n",
    "\n"
   ]
  },
  {
   "cell_type": "code",
   "execution_count": null,
   "metadata": {
    "slideshow": {
     "slide_type": "fragment"
    }
   },
   "outputs": [],
   "source": [
    "s = 'Hello World'\n",
    "lst = [1, 2, 3, 4]"
   ]
  },
  {
   "cell_type": "markdown",
   "metadata": {
    "slideshow": {
     "slide_type": "fragment"
    }
   },
   "source": [
    "\n",
    "\n",
    "* 我们已经学过了字符串和列表，表面上看，字符串和列表很不一样：\n",
    "  * 列表里面是用逗号分隔的多个元素，这些元素组成的一个队列成了列表；\n",
    "  * 而字符串则是连续的字符，字符之间没有分隔符号，所以看起来字符串是一个完整的数据\n",
    "\n"
   ]
  },
  {
   "cell_type": "markdown",
   "metadata": {
    "slideshow": {
     "slide_type": "fragment"
    }
   },
   "source": [
    "\n",
    "* 但是，我们也可以换一个角度，把字符串中的每一个字符都分解出来，就可以把字符串也看作是一个个字符组成的队列。因此字符串和列表一样都是由多个元素组成的有顺序的容器。\n",
    "\n"
   ]
  },
  {
   "cell_type": "markdown",
   "metadata": {},
   "source": [
    "\n",
    "## 容器\n",
    "\n",
    "![](4-1.jpeg)\n",
    "\n",
    "* 生活中有各种各样的容器，它们都可以往里面放东西，也能从里面取出来。在程序中也有这样存放多个数据的手段，列表里面可以放多个元素，字符串里面也可以有多个字符。\n",
    "\n"
   ]
  },
  {
   "cell_type": "markdown",
   "metadata": {},
   "source": [
    "\n",
    "## 序列容器\n",
    "\n",
    "![](4-2.jpg)\n",
    "\n",
    "\n",
    "* 这是一个7天药盒，每天要吃的药分别放在不同的格子里，这也是一种容器。这种容器里面的东西有确定的顺序，它会保持着你放进去的顺序，不像那个普通的盒子，放进去就混在一起了。这样的容器，在程序中叫做序列。列表和字符串都是一种序列\n",
    "\n"
   ]
  },
  {
   "cell_type": "markdown",
   "metadata": {},
   "source": [
    "\n",
    "## 序列容器 aka 有序容器\n",
    "\n",
    "$$\n",
    "容器\\Rightarrow\n",
    "\\begin{cases}\n",
    "有序容器\n",
    "\\Rightarrow\n",
    "\\begin{cases}\n",
    "列表\\\\\n",
    "字符串\n",
    "\\end{cases}\n",
    "\\\\\n",
    "无序容器\n",
    "\\end{cases}\n",
    "$$\n",
    "\n",
    "* 除了字符串和列表这样的序列类型容器，Python还有其他非序列类型的容器，那些会在后面的章节中学习。\n",
    "\n",
    "* 在Python中有一些针对所有序列类型容器的操作，它们对于列表和字符串都是一样的\n",
    "\n"
   ]
  }
 ],
 "metadata": {
  "kernelspec": {
   "display_name": "Python 3",
   "language": "python",
   "name": "python3"
  },
  "language_info": {
   "codemirror_mode": {
    "name": "ipython",
    "version": 3
   },
   "file_extension": ".py",
   "mimetype": "text/x-python",
   "name": "python",
   "nbconvert_exporter": "python",
   "pygments_lexer": "ipython3",
   "version": "3.7.5"
  }
 },
 "nbformat": 4,
 "nbformat_minor": 2
}
