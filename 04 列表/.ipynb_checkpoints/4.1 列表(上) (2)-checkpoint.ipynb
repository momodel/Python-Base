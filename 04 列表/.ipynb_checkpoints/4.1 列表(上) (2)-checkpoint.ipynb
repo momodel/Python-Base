{
 "cells": [
  {
   "cell_type": "markdown",
   "metadata": {},
   "source": [
    "\n",
    "## 计算方差\n",
    "\n",
    "* 方差是衡量随机变量或一组数据时离散程度的度量，它描述随机变量对于数学期望的偏离程度，是各个样本数据和平均数之差的平方和的平均数\n",
    "$$\n",
    "\\sigma^2 = \\frac {\\sum(X-\\mu)^2 }{n}\n",
    "$$\n",
    "* 这里，$\\mu$是均值\n",
    "* 显然，要计算方差，需要先计算出均值，然后用之前读到的每一个值去减均值，所以，需要记录读到的每一个值\n",
    "\n"
   ]
  },
  {
   "cell_type": "markdown",
   "metadata": {},
   "source": [
    "\n",
    "## 记录每一个读入的数\n",
    "\n"
   ]
  },
  {
   "cell_type": "code",
   "execution_count": null,
   "metadata": {
    "slideshow": {
     "slide_type": "fragment"
    }
   },
   "outputs": [],
   "source": [
    "s=cnt=0\n",
    "while True:\n",
    "    x = int(input())\n",
    "    if x == -1:\n",
    "        break\n",
    "    cnt += 1\n",
    "    s += x\n",
    "print(s/cnt)"
   ]
  },
  {
   "cell_type": "markdown",
   "metadata": {
    "slideshow": {
     "slide_type": "fragment"
    }
   },
   "source": [
    "\n",
    "\n",
    "* 之前的代码不记录，读入x之后，累加，然后就丢弃了\n",
    "* 一个变量只能记录一个数值，再次赋值就把原来的值丢弃了\n",
    "* 如何记录很多数值？\n",
    "\n"
   ]
  }
 ],
 "metadata": {
  "kernelspec": {
   "display_name": "Python 3",
   "language": "python",
   "name": "python3"
  },
  "language_info": {
   "codemirror_mode": {
    "name": "ipython",
    "version": 3
   },
   "file_extension": ".py",
   "mimetype": "text/x-python",
   "name": "python",
   "nbconvert_exporter": "python",
   "pygments_lexer": "ipython3",
   "version": "3.7.5"
  }
 },
 "nbformat": 4,
 "nbformat_minor": 2
}
