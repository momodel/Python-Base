{
 "cells": [
  {
   "cell_type": "markdown",
   "metadata": {
    "deletable": false,
    "editable": false},
   "source": [
    "<center style=\"font-size:30px\">说在课前</center>"
   ]
  },
  {
   "cell_type": "markdown",
   "metadata": {
   "deletable": false,
    "editable": false},
   "source": [
    "## 课程简介"
   ]
  },
  {
   "cell_type": "markdown",
   "metadata": {
   "deletable": false,
    "editable": false},
   "source": [
    "<video src=\"https://imgbed.momodel.cn/mo片头.mp4\" width=100% controls=true>"
   ]
  },
  {
   "cell_type": "markdown",
   "metadata": {
   "deletable": false,
    "editable": false},
   "source": [
    "本课程将介绍 Python 语言及常用的数据分析和机器学习框架，可帮助学习者掌握 Python 编程的知识体系，为进一步学习人工智能算法和应用建立必要的编程基础。本课程包含16课36小节的学习，每课均配备相应的测验题。"
   ]
  },
  {
   "cell_type": "markdown",
   "metadata": {
   "deletable": false,
    "editable": false},
   "source": [
    "本课程采用Mo-tutor教学形式，通过自学课件内容+教师讲解的形式展开学习，请尝试点击课件中的文本或播放按钮<img src = \"https://i.loli.net/2021/08/03/r4ZtYV7edxpyuO3.png\" width=23px style= \"display:inline\">获取讲解内容。"
   ]
  },
  {
   "cell_type": "markdown",
   "metadata": {
    "deletable": false,
    "editable": false,
    "slideshow": {
     "slide_type": "slide"
    }
   },
   "source": [
    "\n",
    "## 教材和参考资料\n",
    "\n",
    "* 浙大版《Python语言程序设计》\n",
    "* Python语言参考手册：https://docs.python.org/zh-cn/3/\n",
    "* Python 标准库文档：https://docs.python.org/zh-cn/3.9/library/index.html\n",
    "\n"
   ]
  },
  {
   "cell_type": "markdown",
   "metadata": {
   "deletable": false,
    "editable": false},
   "source": [
    "现在请点击右下角「下一项」按钮进入正式的课程学习。"
   ]
  }
 ],
 "metadata": {
  "kernelspec": {
   "display_name": "Python 3",
   "language": "python",
   "name": "python3"
  },
  "language_info": {
   "codemirror_mode": {
    "name": "ipython",
    "version": 3
   },
   "file_extension": ".py",
   "mimetype": "text/x-python",
   "name": "python",
   "nbconvert_exporter": "python",
   "pygments_lexer": "ipython3",
   "version": "3.7.4"
  }
 },
 "nbformat": 4,
 "nbformat_minor": 2
}
