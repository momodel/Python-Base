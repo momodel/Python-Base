{
 "cells": [
  {
   "cell_type": "markdown",
   "metadata": {},
   "source": [
    "\n",
    "## 字符串再认识\n",
    "\n",
    "* 字符串是用单引号或双引号括起来的一连串的字符。\n"
   ]
  },
  {
   "cell_type": "code",
   "execution_count": null,
   "metadata": {
    "slideshow": {
     "slide_type": "fragment"
    }
   },
   "outputs": [],
   "source": [
    "'hello' + \"bye-bye\""
   ]
  },
  {
   "cell_type": "markdown",
   "metadata": {
    "slideshow": {
     "slide_type": "fragment"
    }
   },
   "source": [
    "\n",
    "* 如果要表达很长的字符串\n"
   ]
  },
  {
   "cell_type": "code",
   "execution_count": null,
   "metadata": {
    "slideshow": {
     "slide_type": "fragment"
    }
   },
   "outputs": [],
   "source": [
    "s1 = '''\n",
    "this is the 1st line\n",
    "this is a long string\n",
    "this is the 3rd line\n",
    "'''\n",
    "s2 = \"this is another \\\n",
    "long string\"\n",
    "print(s1)\n",
    "print(s2)"
   ]
  },
  {
   "cell_type": "markdown",
   "metadata": {
    "slideshow": {
     "slide_type": "fragment"
    }
   },
   "source": [
    "\n",
    "* 用3个引号（单引号或双引号）括起来的字符串可以包含多行字符串\n",
    "* 如果要在程序中用多行表示一个字符串，则可以在每行的结尾用反斜杠（\\）结束\n",
    "* 三个引号的字符串会自动把换行做进字符串数值里，而`\\`换行的字符串不会\n",
    "\n"
   ]
  },
  {
   "cell_type": "markdown",
   "metadata": {},
   "source": [
    "\n",
    "## `\\` 转义字符\n",
    "\n",
    "* 如果在字符串的内容中需要出现单引号或双引号，就需要用另一种引号来做前后的括号\n"
   ]
  },
  {
   "cell_type": "code",
   "execution_count": null,
   "metadata": {
    "slideshow": {
     "slide_type": "fragment"
    }
   },
   "outputs": [],
   "source": [
    "\"It's amazing!\""
   ]
  },
  {
   "cell_type": "code",
   "execution_count": null,
   "metadata": {
    "slideshow": {
     "slide_type": "fragment"
    }
   },
   "outputs": [],
   "source": [
    "'He said, \"You are so cool!'"
   ]
  },
  {
   "cell_type": "markdown",
   "metadata": {
    "slideshow": {
     "slide_type": "fragment"
    }
   },
   "source": [
    "\n",
    "* 或者用转义字符\n",
    "\n",
    "| \\t | \\n | \\\\\\ | \\\" |  \\' | \\ooo | \\xyz |\n",
    "|----|----|----|----|----|----|----|\n",
    "| 制表位 | 回车换行 | \\ | \"  | '  | 8进制 | 16进制 |\n",
    "\n"
   ]
  },
  {
   "cell_type": "code",
   "execution_count": null,
   "metadata": {},
   "outputs": [],
   "source": []
  }
 ],
 "metadata": {
  "kernelspec": {
   "display_name": "Python 3",
   "language": "python",
   "name": "python3"
  },
  "language_info": {
   "codemirror_mode": {
    "name": "ipython",
    "version": 3
   },
   "file_extension": ".py",
   "mimetype": "text/x-python",
   "name": "python",
   "nbconvert_exporter": "python",
   "pygments_lexer": "ipython3",
   "version": "3.7.5"
  }
 },
 "nbformat": 4,
 "nbformat_minor": 2
}
