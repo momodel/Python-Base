{
 "cells": [
  {
   "cell_type": "markdown",
   "metadata": {
    "inputHidden": false
   },
   "source": [
    "## 字符串中的单个字符\n",
    "\n",
    "* 身份号码是18位字符：`160102199905080118`\n",
    "\n",
    "| 0 |  1    |   2   |  3    |  4    |   5   |   6   |   7   |  8    | 9     |  10    |  11    |  12    |  13    |  14    |  15    |  16    |  17    |\n",
    "| ---- | ---- | ---- | ---- | ---- | ---- | ---- | ---- | ---- | ---- | ---- | ---- | ---- | ---- | ---- | ---- | ---- | ---- |\n",
    "| 1     |  6    |   0   |  1    |  0    |  2    |  1    |  9    |  9    |  9    |  5    |  0    |  8    |  0    |  1    |  1    |  1    |  8    |\n",
    "\n",
    "* 字符串中的每一个字符，是按照书写顺序排列的，第1个字符的编号是0，第2个是1，以此类推\n",
    "* `[]`可以用来取出字符串中的某个字符\n",
    "    * s[0]：s中的第1个字符\n",
    "    * s[x]：s中的第x个字符"
   ]
  },
  {
   "cell_type": "code",
   "execution_count": null,
   "metadata": {
    "slideshow": {
     "slide_type": "fragment"
    }
   },
   "outputs": [],
   "source": [
    "s='160102199905080118'\n",
    "print(s[0])\n",
    "x=int(input())\n",
    "print(s[x])\n",
    "print(type(s[x]))"
   ]
  },
  {
   "cell_type": "markdown",
   "metadata": {
    "inputHidden": false,
    "slideshow": {
     "slide_type": "fragment"
    }
   },
   "source": [
    "* 编号，即`[]`中的整数叫做下标或索引\n",
    "* 单个字符的类型仍然是字符串"
   ]
  },
  {
   "cell_type": "markdown",
   "metadata": {},
   "source": [
    "\n",
    "## 下标从0开始\n",
    "\n",
    "* 编号从0开始是为了内部实现的方便\n",
    "\n",
    "![](sfz.jpeg)\n",
    "\n",
    "[身份证提取生日](身份证提取生日.m4v)\n",
    "\n",
    "* Q：身份号码中的生日是从下标为多少到多少？\n",
    "\n"
   ]
  },
  {
   "cell_type": "code",
   "execution_count": null,
   "metadata": {},
   "outputs": [],
   "source": []
  }
 ],
 "metadata": {
  "kernelspec": {
   "display_name": "Python 3",
   "language": "python",
   "name": "python3"
  },
  "language_info": {
   "codemirror_mode": {
    "name": "ipython",
    "version": 3
   },
   "file_extension": ".py",
   "mimetype": "text/x-python",
   "name": "python",
   "nbconvert_exporter": "python",
   "pygments_lexer": "ipython3",
   "version": "3.7.5"
  }
 },
 "nbformat": 4,
 "nbformat_minor": 2
}
