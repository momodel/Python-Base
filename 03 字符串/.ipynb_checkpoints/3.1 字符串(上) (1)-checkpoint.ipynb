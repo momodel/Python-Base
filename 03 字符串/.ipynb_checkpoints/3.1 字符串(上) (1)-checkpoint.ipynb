{
 "cells": [
  {
   "cell_type": "markdown",
   "metadata": {},
   "source": [
    "\n",
    "## 身份证\n",
    "\n",
    "![](sfz.jpeg)\n",
    "\n",
    "* 如果要处理居民身份号码，可以用整数吗？\n",
    "\n"
   ]
  },
  {
   "cell_type": "markdown",
   "metadata": {},
   "source": [
    "\n",
    "## 字符串\n",
    "\n",
    "* 字符串是用单引号或双引号括起来的一连串的字符\n",
    "* `input()`的结果就是用户输入的一行内容，作为一个字符串\n"
   ]
  },
  {
   "cell_type": "code",
   "execution_count": null,
   "metadata": {
    "slideshow": {
     "slide_type": "fragment"
    }
   },
   "outputs": [],
   "source": [
    "a = input()\n",
    "print(a)\n",
    "print(type(a))"
   ]
  },
  {
   "cell_type": "markdown",
   "metadata": {},
   "source": [
    "\n",
    "## 字面量\n",
    "\n",
    "* 字面量这个术语的意思就是写在程序代码里的人类可以阅读得到的值\n",
    "\n",
    "```Python\n",
    "6\n",
    "7.2\n",
    "\"hello\"\n",
    "```\n",
    "这些都是字面量，它们可以参与运算，可以赋值给变量，可以传递给函数\n"
   ]
  },
  {
   "cell_type": "markdown",
   "metadata": {},
   "source": [
    "\n",
    "## 字符串字面量\n",
    "\n",
    "* 字符串字面量是用单引号或双引号括起来的一连串的字符\n",
    "```\n",
    "\"Hello\"\n",
    "'bye-bye'\n",
    "```"
   ]
  },
  {
   "cell_type": "markdown",
   "metadata": {
    "slideshow": {
     "slide_type": "fragment"
    }
   },
   "source": [
    "\n",
    "这些都是字符串字面量。字符串字面量两端的引号，是用来在源码中表示字符串字面量的，它们不构成字符串的组成成分，字符串在计算机内的数据并不包括两端的引号\n",
    "\n",
    "* 用`print()`输出字符串的时候，不会输出两端的引号\n",
    "* 在交互窗口直接输入变量名字检查的时候，会输出两端的引号以表明它的类型\n",
    "* `type()`可以用来检查它的类型\n",
    "\n",
    "*理解字面量和值之间的关系非常重要*\n",
    "\n"
   ]
  }
 ],
 "metadata": {
  "kernelspec": {
   "display_name": "Python 3",
   "language": "python",
   "name": "python3"
  },
  "language_info": {
   "codemirror_mode": {
    "name": "ipython",
    "version": 3
   },
   "file_extension": ".py",
   "mimetype": "text/x-python",
   "name": "python",
   "nbconvert_exporter": "python",
   "pygments_lexer": "ipython3",
   "version": "3.7.5"
  }
 },
 "nbformat": 4,
 "nbformat_minor": 2
}
