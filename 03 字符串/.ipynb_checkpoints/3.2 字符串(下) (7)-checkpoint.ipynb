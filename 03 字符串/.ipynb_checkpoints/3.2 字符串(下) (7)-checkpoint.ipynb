{
 "cells": [
  {
   "cell_type": "markdown",
   "metadata": {},
   "source": [
    "\n",
    "## `split()`是什么？\n",
    "\n",
    "`a, b = map(int, input().split('/'))`\n",
    "\n",
    "* `split()`根据所给的参数字符串，将字符串分隔为一些字符串，放在一个列表里\n",
    "\n",
    "`'12/18'.split('/')` --> `['12', '18']`\n",
    "\n",
    "* 用`[]`括起来的这个值是一个列表，这里有两个元素，元素之间用逗号`,`分隔\n",
    "\n"
   ]
  },
  {
   "cell_type": "code",
   "execution_count": null,
   "metadata": {
    "slideshow": {
     "slide_type": "fragment"
    }
   },
   "outputs": [],
   "source": [
    "s='helle/world/I/am/18'\n",
    "print(s.split('/'))"
   ]
  },
  {
   "cell_type": "markdown",
   "metadata": {},
   "source": [
    "\n",
    "## 列表list\n",
    "\n",
    "* 由一系列按照指定顺序排列的元素组成。列表中的元素可以是不同类型\n",
    "\n",
    "* 列表的字面量用方括号（`[ ]`）将元素括起来，元素之间用逗号（`,`）分隔\n",
    "\n",
    "* 列表和字符串一样是序列类型的一种，字符串的下标、切片、`len(`)、`*`这些操作对于列表都是成立的，除此之外，列表还有自己的特殊操作\n",
    "\n"
   ]
  },
  {
   "cell_type": "code",
   "execution_count": null,
   "metadata": {
    "slideshow": {
     "slide_type": "fragment"
    }
   },
   "outputs": [],
   "source": [
    "t=[1,2,3,'a']\n",
    "print(type(t))\n",
    "print(t)\n",
    "print('a')"
   ]
  },
  {
   "cell_type": "markdown",
   "metadata": {},
   "source": [
    "\n",
    "## What we've learned today\n",
    "\n",
    "* 复数\n",
    "* 字符串\n",
    "* 字符串的下标和切片\n",
    "* 字符串的基本运算\n",
    "* 字符串的使用\n",
    "* 遍历循环\n"
   ]
  }
 ],
 "metadata": {
  "kernelspec": {
   "display_name": "Python 3",
   "language": "python",
   "name": "python3"
  },
  "language_info": {
   "codemirror_mode": {
    "name": "ipython",
    "version": 3
   },
   "file_extension": ".py",
   "mimetype": "text/x-python",
   "name": "python",
   "nbconvert_exporter": "python",
   "pygments_lexer": "ipython3",
   "version": "3.7.5"
  }
 },
 "nbformat": 4,
 "nbformat_minor": 2
}
