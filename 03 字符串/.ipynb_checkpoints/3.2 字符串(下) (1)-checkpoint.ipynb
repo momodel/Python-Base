{
 "cells": [
  {
   "cell_type": "markdown",
   "metadata": {},
   "source": [
    "<center style=\"font-size:30px\">字符串（下）</center>"
   ]
  },
  {
   "cell_type": "markdown",
   "metadata": {},
   "source": [
    "\n",
    "## 月份的英文名字缩写\n",
    "\n",
    "* 每个月份的英文名字可以设置一个三个字母的缩写，如：\n",
    "    * 1月JAN、2月FEB、3月MAR...\n",
    "* 写程序，输入一个数字，如`4`，输出对应月份的缩写，如`APR`\n",
    "\n"
   ]
  },
  {
   "cell_type": "markdown",
   "metadata": {},
   "source": [
    "\n",
    "## 月份的英文名字缩写\n",
    "\n",
    "* 构造`monthname='JANFEBMARAPRMAYJUNJULAUGSEPOCTNOVDEV'\n",
    "`，那么3月份就是`monthname[6:9]`\n",
    "\n"
   ]
  },
  {
   "cell_type": "code",
   "execution_count": null,
   "metadata": {
    "slideshow": {
     "slide_type": "fragment"
    }
   },
   "outputs": [],
   "source": [
    "monthname='JANFEBMARAPRMAYJUNJULAUGSEPOCTNOVDEC'\n",
    "m = int(input())\n",
    "if 1<=m<=12:\n",
    "    m-=1\n",
    "    print(monthname[m*3:m*3+3])"
   ]
  },
  {
   "cell_type": "markdown",
   "metadata": {},
   "source": [
    "\n",
    "## 带符号的温度输入\n",
    "\n",
    "* 如果输入的温度用最后一个字母标识摄氏或华氏，如\n",
    "```\n",
    "32C\n",
    "67.2F\n",
    "```\n",
    "如何写程序把最后的C或F识别出来，从而可以进一步做计算？"
   ]
  },
  {
   "cell_type": "code",
   "execution_count": null,
   "metadata": {
    "slideshow": {
     "slide_type": "fragment"
    }
   },
   "outputs": [],
   "source": [
    "wendu=input()\n",
    "if wendu[len(wendu)-1]=='C':\n",
    "    print(\"C\")\n",
    "else:\n",
    "    print(\"F\")"
   ]
  }
 ],
 "metadata": {
  "kernelspec": {
   "display_name": "Python 3",
   "language": "python",
   "name": "python3"
  },
  "language_info": {
   "codemirror_mode": {
    "name": "ipython",
    "version": 3
   },
   "file_extension": ".py",
   "mimetype": "text/x-python",
   "name": "python",
   "nbconvert_exporter": "python",
   "pygments_lexer": "ipython3",
   "version": "3.7.5"
  }
 },
 "nbformat": 4,
 "nbformat_minor": 2
}
