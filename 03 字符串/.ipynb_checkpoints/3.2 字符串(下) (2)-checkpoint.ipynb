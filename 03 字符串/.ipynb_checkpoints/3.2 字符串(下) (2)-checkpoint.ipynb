{
 "cells": [
  {
   "cell_type": "markdown",
   "metadata": {},
   "source": [
    "\n",
    "## 下标为负数\n",
    "\n",
    "| 0 |  1    |   2   |  3    |  4    |   5   |   6   |   7   |  8    | 9     |  10    |  11    |  12    |  13    |  14    |  15    |  16    |  17    |\n",
    "| ---- | ---- | ---- | ---- | ---- | ---- | ---- | ---- | ---- | ---- | ---- | ---- | ---- | ---- | ---- | ---- | ---- | ---- |\n",
    "| 1     |  6    |   0   |  1    |  0    |  2    |  1    |  9    |  9    |  9    |  5    |  0    |  8    |  0    |  1    |  1    |  1    |  8    |\n",
    "| -18     | -17    |   -16   |  -15    |  -14    |  -13    |  -12    |  -11    |  -10    |  -9    |  -8    |  -7    |  -6    |  -5    |  -4    |  -3    |  -2    |  -1    |\n",
    "\n",
    "* 最右边（后）的字符的下标也可以用`-1`来表示\n",
    "* 负的下标从右向左递减，从-1开始\n",
    "\n"
   ]
  },
  {
   "cell_type": "code",
   "execution_count": null,
   "metadata": {
    "slideshow": {
     "slide_type": "fragment"
    }
   },
   "outputs": [],
   "source": [
    "s='160102199950801118'\n",
    "print(s[-1])\n",
    "print(s[-18])"
   ]
  },
  {
   "cell_type": "markdown",
   "metadata": {},
   "source": [
    "\n",
    "## 取出温度符号\n",
    "\n",
    "| 0 |  1    |   2   |  3    |  4    |\n",
    "| ---- | ---- | ---- | ---- | ---- |\n",
    "| 3   |  6    |   .   |  1    |  C    |\n",
    "| -5     | -4    |   -3   |  -2    |  -1  |\n",
    "* 最右边（后）的字符的下标也可以用`-1`来表示\n",
    "* 负的下标从右向左递减，从-1开始\n",
    "* 所以`'36.1C'[-1]`就是`C`\n"
   ]
  },
  {
   "cell_type": "code",
   "execution_count": null,
   "metadata": {
    "slideshow": {
     "slide_type": "fragment"
    }
   },
   "outputs": [],
   "source": [
    "s='36.1C'\n",
    "print(float(s[0:-1]))\n",
    "print(s[-1])\n",
    "print('67.2F'[-1])\n",
    "wendu=input()\n",
    "if wendu[-1]=='C':\n",
    "    print('C')"
   ]
  },
  {
   "cell_type": "markdown",
   "metadata": {},
   "source": [
    "\n",
    "## 取出温度\n",
    "\n",
    "| 0 |  1    |   2   |  3    |  4    |\n",
    "| ---- | ---- | ---- | ---- | ---- |\n",
    "| 3   |  6    |   .   |  1    |  C    |\n",
    "| -5     | -4    |   -3   |  -2    |  -1  |\n",
    "\n",
    "* 表示温度的字符串，用后缀C/F表示单位，这个单位字符可以用[-1]来表示，问题是如何取出不带单位的纯数字？\n",
    "* 对于常见的两位数温度，可以用[0:2]，但是1位数温度呢？有没有统一的方法可以表示？\n",
    "* 因为最后那个字符就是[-1]，所以[0:-1]就是在最后那个字符前面划一道，就是不带着最后字符的纯数字了`wendu[0:-1]`\n",
    "\n"
   ]
  },
  {
   "cell_type": "code",
   "execution_count": null,
   "metadata": {
    "slideshow": {
     "slide_type": "fragment"
    }
   },
   "outputs": [],
   "source": [
    "wendu='36.16546C'\n",
    "wendu[:-1]"
   ]
  },
  {
   "cell_type": "markdown",
   "metadata": {},
   "source": [
    "\n",
    "## 温度转换\n",
    "\n",
    "* 输入：华氏或者摄氏温度值、温度标识\n",
    "* 输出：将华氏温度转换成摄氏温度，摄氏温度转换成华氏温度\n",
    "* 计算：$华氏=摄氏\\times 1.8+32$\n",
    "\n"
   ]
  },
  {
   "cell_type": "code",
   "execution_count": null,
   "metadata": {
    "slideshow": {
     "slide_type": "fragment"
    }
   },
   "outputs": [],
   "source": [
    "wendu = input()\n",
    "shuzhi = float(wendu[:-1]) # 当切片从0开始时，0可以省略\n",
    "if wendu[-1] == 'C' or wendu[-1]=='c':\n",
    "    print(f'{1.8*shuzhi+32:.2f}')   # 格式字符串的{}里可以做表达式计算\n",
    "else:\n",
    "    print(f'{(shuzhi-32)/1.8:.2f}')"
   ]
  }
 ],
 "metadata": {
  "kernelspec": {
   "display_name": "Python 3",
   "language": "python",
   "name": "python3"
  },
  "language_info": {
   "codemirror_mode": {
    "name": "ipython",
    "version": 3
   },
   "file_extension": ".py",
   "mimetype": "text/x-python",
   "name": "python",
   "nbconvert_exporter": "python",
   "pygments_lexer": "ipython3",
   "version": "3.7.5"
  }
 },
 "nbformat": 4,
 "nbformat_minor": 2
}
