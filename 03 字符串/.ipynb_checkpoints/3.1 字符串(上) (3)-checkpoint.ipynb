{
 "cells": [
  {
   "cell_type": "markdown",
   "metadata": {},
   "source": [
    "## 字符串计算\n",
    "\n",
    "* `len()`返回字符串的长度\n",
    "* 字符串的`*`可以产生重复的长字符串\n",
    "  * `'*'*10` --> `**********`\n",
    "* `+`可以连接两个字符串\n",
    "\n"
   ]
  },
  {
   "cell_type": "code",
   "execution_count": null,
   "metadata": {
    "slideshow": {
     "slide_type": "fragment"
    }
   },
   "outputs": [],
   "source": [
    "s='67'*3\n",
    "print(s)\n",
    "print(len(s))\n",
    "s='160102199905080118'\n",
    "print(s[6]+s[7]+s[8]+s[9]+s[10]+s[11]+s[12]+s[13])"
   ]
  },
  {
   "cell_type": "markdown",
   "metadata": {
    "slideshow": {
     "slide_type": "fragment"
    }
   },
   "source": [
    "\n",
    "* 有没有更简单的方法来得到身份号码中间的6个连续的字符？\n",
    "\n"
   ]
  },
  {
   "cell_type": "markdown",
   "metadata": {},
   "source": [
    "\n",
    "## 切片slice\n",
    "\n"
   ]
  },
  {
   "cell_type": "code",
   "execution_count": null,
   "metadata": {
    "slideshow": {
     "slide_type": "fragment"
    }
   },
   "outputs": [],
   "source": [
    "s='160102199905080118'\n",
    "s[6:14]"
   ]
  },
  {
   "cell_type": "markdown",
   "metadata": {
    "slideshow": {
     "slide_type": "fragment"
    }
   },
   "source": [
    "\n",
    "\n",
    "* 在[]里的冒号，就形成了切片，它可以从字符串中取出其中的一段。对于字符串，取出的一段还是一个字符串\n",
    "* 注意这里的6是切片开始的下标，而14是切片结束之后的下一个字符的下标\n"
   ]
  }
 ],
 "metadata": {
  "kernelspec": {
   "display_name": "Python 3",
   "language": "python",
   "name": "python3"
  },
  "language_info": {
   "codemirror_mode": {
    "name": "ipython",
    "version": 3
   },
   "file_extension": ".py",
   "mimetype": "text/x-python",
   "name": "python",
   "nbconvert_exporter": "python",
   "pygments_lexer": "ipython3",
   "version": "3.7.5"
  }
 },
 "nbformat": 4,
 "nbformat_minor": 2
}
