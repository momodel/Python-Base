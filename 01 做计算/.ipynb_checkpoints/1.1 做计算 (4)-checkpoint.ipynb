{
 "cells": [
  {
   "cell_type": "markdown",
   "metadata": {
    "graffitiCellId": "id_x534jee"
   },
   "source": [
    "\n",
    "## <span class=\"motutor-highlight motutor-id_x534jee-id_7ykxj9k\"><i></i>数字的运算符</span>\n",
    "\n",
    "| 符号  | 计算 | 结合 |\n",
    "| ---- | ---- | ---- |\n",
    "|   +  | 加法  | 自左向右 |\n",
    "|   -  | 减法  | 自左向右 |\n",
    "|   *  | 乘法  | 自左向右 |\n",
    "|   /  | 浮点除法 | 自左向右 |\n",
    "|   //  | 整数除法 | 自左向右 |\n",
    "|   %  | 取余  | 自左向右 |\n",
    "|   **  | 乘方 | 自右向左 |\n",
    "\n"
   ]
  },
  {
   "cell_type": "markdown",
   "metadata": {
    "graffitiCellId": "id_g2yaofl"
   },
   "source": [
    "\n",
    "## <span class=\"motutor-highlight motutor-id_g2yaofl-id_msrg9it\"><i></i>完整的输出</span>\n",
    "\n",
    "*如何产生输出的内容：可能有输出的文字要求和数字格式的要求，如：\n",
    "    `面积是2.56`*\n",
    "\n",
    "* 如果输出的多种内容之间用空格间隔，可以直接用`print()`输出：\n",
    "    * `print(\"面积是：\", area)`\n",
    "* 如果要控制输出结果的小数点后的位数，就必须使用格式控制：\n",
    "    * `print(f\"面积是：{area:.2f}\")`\n",
    "    * 字符串前面的`f`表示格式字符串，其中的`{}`中的名字会被同名的变量的值所替换，`:`后面的内容表示输出的格式（可以省略）\n",
    "    * `.2f`表示小数点后保留两位小数的浮点数\n",
    "\n"
   ]
  },
  {
   "cell_type": "code",
   "execution_count": null,
   "metadata": {
    "graffitiCellId": "id_capup0q",
    "slideshow": {
     "slide_type": "fragment"
    }
   },
   "outputs": [],
   "source": [
    "area=31.2\n",
    "print('a', area)\n",
    "print(f'area is: {area*2:.2f}')"
   ]
  },
  {
   "cell_type": "markdown",
   "metadata": {
    "graffitiCellId": "id_csfyqr6"
   },
   "source": [
    "\n",
    "## 计算圆面积的程序\n",
    "\n"
   ]
  },
  {
   "cell_type": "code",
   "execution_count": null,
   "metadata": {
    "graffitiCellId": "id_9ecgtys",
    "slideshow": {
     "slide_type": "fragment"
    }
   },
   "outputs": [],
   "source": [
    "radius = float(input(\"请输入圆的半径：\"))\n",
    "area = 3.14159 * radius ** 2\n",
    "print(f\"半径为{radius:.2f}的圆的面积是：{area:.2f}\")"
   ]
  },
  {
   "cell_type": "markdown",
   "metadata": {
    "graffitiCellId": "id_gif6roa",
    "slideshow": {
     "slide_type": "fragment"
    }
   },
   "source": [
    "\n",
    "将这个程序保存为`area.py`，今后就可以再次装载运行来计算了\n",
    "\n",
    "* `input()`函数的输入是在等待用户输入时显示给用户看的内容\n",
    "\n"
   ]
  }
 ],
 "metadata": {
  "graffiti": {
   "firstAuthorId": "dev",
   "id": "id_pyxglbb",
   "language": "EN"
  },
  "kernelspec": {
   "display_name": "Python 3",
   "language": "python",
   "name": "python3"
  },
  "language_info": {
   "codemirror_mode": {
    "name": "ipython",
    "version": 3
   },
   "file_extension": ".py",
   "mimetype": "text/x-python",
   "name": "python",
   "nbconvert_exporter": "python",
   "pygments_lexer": "ipython3",
   "version": "3.7.5"
  }
 },
 "nbformat": 4,
 "nbformat_minor": 2
}
