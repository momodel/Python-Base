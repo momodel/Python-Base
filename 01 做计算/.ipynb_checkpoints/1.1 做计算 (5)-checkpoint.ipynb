{
 "cells": [
  {
   "cell_type": "markdown",
   "metadata": {
    "graffitiCellId": "id_fcfzzhg"
   },
   "source": [
    "\n",
    "## 计算时间差\n",
    "\n",
    "* 给出一天内两个分别用小时和分钟表示的时间，计算两个时间的差，结果表示为小时和分钟\n",
    "* 比如输入：\n",
    "\n",
    "```\n",
    "11 30\n",
    "12 45\n",
    "```\n",
    "表示11点30分和12点45分，输出：\n",
    "```\n",
    "1 15\n",
    "```\n",
    "表示时间差是1小时15分。"
   ]
  },
  {
   "cell_type": "markdown",
   "metadata": {
    "graffitiCellId": "id_ounl1z8",
    "slideshow": {
     "slide_type": "slide"
    }
   },
   "source": [
    "\n",
    "## 输入\n",
    "\n",
    "```\n",
    "11 30\n",
    "12 45\n",
    "```\n",
    "\n",
    "* 输入有两行，每行有两个数字\n",
    "* `input()`一次读入一整行\n",
    "* 试试下面的代码：\n"
   ]
  },
  {
   "cell_type": "code",
   "execution_count": null,
   "metadata": {
    "graffitiCellId": "id_re2pecj",
    "slideshow": {
     "slide_type": "fragment"
    }
   },
   "outputs": [],
   "source": [
    "a,b=map(int, input().split())\n",
    "print(a,b)"
   ]
  },
  {
   "cell_type": "markdown",
   "metadata": {
    "graffitiCellId": "id_m1yijdw",
    "slideshow": {
     "slide_type": "fragment"
    }
   },
   "source": [
    "\n",
    "*先不用理解这行是怎么实现的，记住，会照着用就好了*\n",
    "\n"
   ]
  },
  {
   "cell_type": "markdown",
   "metadata": {
    "graffitiCellId": "id_zbyle27"
   },
   "source": [
    "\n",
    "## 变量\n",
    "```\n",
    "11 30\n",
    "12 45\n",
    "```\n",
    "* 要输入4个数字，从数学的角度出发，用`a, b, c, d`4个变量也未尝不可\n",
    "* 但是，编程需要含义明确的名字来给变量起名字\n",
    "* 所以，`hour1, minute1, hour2, minute2`是更合适的变量名\n"
   ]
  },
  {
   "cell_type": "code",
   "execution_count": null,
   "metadata": {
    "graffitiCellId": "id_txx5yuz",
    "slideshow": {
     "slide_type": "fragment"
    }
   },
   "outputs": [],
   "source": [
    "hour1, minute1 = map(int, input().split())\n",
    "hour2, minute2 = map(int, input().split())"
   ]
  },
  {
   "cell_type": "markdown",
   "metadata": {
    "graffitiCellId": "id_l6ogrwe",
    "slideshow": {
     "slide_type": "fragment"
    }
   },
   "source": [
    "\n",
    "* <span class=\"motutor-highlight motutor-id_l6ogrwe-id_owl96th\"><i></i>一行用一个`input()`</span>\n",
    "\n"
   ]
  },
  {
   "cell_type": "markdown",
   "metadata": {
    "graffitiCellId": "id_q810pg5"
   },
   "source": [
    "\n",
    "## <span class=\"motutor-highlight motutor-id_q810pg5-id_xlnvxqq\"><i></i>逐步实现程序</span>\n",
    "\n"
   ]
  },
  {
   "cell_type": "code",
   "execution_count": null,
   "metadata": {
    "graffitiCellId": "id_f66ftjs",
    "slideshow": {
     "slide_type": "fragment"
    }
   },
   "outputs": [],
   "source": [
    "hour1, minute1 = map(int, input().split())\n",
    "hour2, minute2 = map(int, input().split())"
   ]
  },
  {
   "cell_type": "markdown",
   "metadata": {
    "graffitiCellId": "id_jilcgyy",
    "slideshow": {
     "slide_type": "fragment"
    }
   },
   "source": [
    "\n",
    "\n",
    "* 写程序切忌一步到位\n",
    "* 一定要学会写一点试一点\n",
    "* 写到这里，就应该测试一下读到的4个数字是否正确\n",
    "* How？\n",
    "\n"
   ]
  }
 ],
 "metadata": {
  "graffiti": {
   "firstAuthorId": "dev",
   "id": "id_52m6fll",
   "language": "EN"
  },
  "kernelspec": {
   "display_name": "Python 3",
   "language": "python",
   "name": "python3"
  },
  "language_info": {
   "codemirror_mode": {
    "name": "ipython",
    "version": 3
   },
   "file_extension": ".py",
   "mimetype": "text/x-python",
   "name": "python",
   "nbconvert_exporter": "python",
   "pygments_lexer": "ipython3",
   "version": "3.7.5"
  }
 },
 "nbformat": 4,
 "nbformat_minor": 2
}
