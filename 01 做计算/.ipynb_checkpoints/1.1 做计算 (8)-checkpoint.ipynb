{
 "cells": [
  {
   "cell_type": "markdown",
   "metadata": {
    "graffitiCellId": "id_89aqlv3"
   },
   "source": [
    "\n",
    "## <span class=\"motutor-highlight motutor-id_89aqlv3-id_6poa8ow\"><i></i>计算平均数</span>\n",
    "\n",
    "* 计算平均数是实验数据处理中最常（jiǎn)见(dān)的操作\n",
    "$$average =  \\frac {\\displaystyle \\sum _{i=0}^{n} a_i} {n}$$\n",
    "* 输入数据为很多行，每一行一个非负整数\n",
    "* 最后一行为`-1`，表示输入结束，这个`-1`不是有效数据的一部分\n",
    "\n",
    "```\n",
    "1 \n",
    "3 \n",
    "2 \n",
    "5 \n",
    "11\n",
    "6 \n",
    "-1\n",
    "```\n",
    "* IPO思考法则：I --> O --> P\n",
    "\n"
   ]
  },
  {
   "cell_type": "markdown",
   "metadata": {
    "graffitiCellId": "id_daky3qj"
   },
   "source": [
    "\n",
    "## <span class=\"motutor-highlight motutor-id_daky3qj-id_78549c0\"><i></i>读入数据</span>\n",
    "\n",
    "```\n",
    "1\n",
    "3\n",
    "2\n",
    "5\n",
    "11\n",
    "6\n",
    "-1\n",
    "```\n",
    "\n",
    "* `x = int(input())`可以读入一个数\n",
    "* 然后要做两件事情：\n",
    "    * 计数器加1\n",
    "    * 把x加到总和中\n",
    "* 接着上面的步骤需要不断地重复\n",
    "\n"
   ]
  },
  {
   "cell_type": "code",
   "execution_count": null,
   "metadata": {
    "graffitiCellId": "id_t0rchke"
   },
   "outputs": [],
   "source": [
    "cnt = 0   #计数\n",
    "s = 0     #总和\n",
    "x = int(input())\n",
    "cnt += 1\n",
    "s += x"
   ]
  },
  {
   "cell_type": "markdown",
   "metadata": {
    "graffitiCellId": "id_7q0xq80"
   },
   "source": [
    "\n",
    "## <span class=\"motutor-highlight motutor-id_7q0xq80-id_0jjevea\"><i></i>重复</span>\n",
    "\n"
   ]
  },
  {
   "cell_type": "code",
   "execution_count": null,
   "metadata": {
    "graffitiCellId": "id_kyhaqbr",
    "slideshow": {
     "slide_type": "fragment"
    }
   },
   "outputs": [],
   "source": [
    "#千万不要在mo里执行这段代码\n",
    "cnt = 0\n",
    "s = 0\n",
    "while True:\n",
    "    x = int(input())\n",
    "    cnt += 1\n",
    "    s += x"
   ]
  },
  {
   "cell_type": "markdown",
   "metadata": {
    "graffitiCellId": "id_r0oi2mc",
    "slideshow": {
     "slide_type": "fragment"
    }
   },
   "source": [
    "\n",
    "\n",
    "* `while`是一个语句，表示重复执行\n",
    "* `True`是一个布尔量字面量，表示条件成立，注意T大写\n",
    "* `while True:`构成了一个不断重复执行的语句\n",
    "\n"
   ]
  },
  {
   "cell_type": "markdown",
   "metadata": {
    "graffitiCellId": "id_k97d1wm"
   },
   "source": [
    "\n",
    "## <span class=\"motutor-highlight motutor-id_k97d1wm-id_1oy9y3t\"><i></i>如何停下来</span>\n",
    "\n"
   ]
  },
  {
   "cell_type": "code",
   "execution_count": null,
   "metadata": {
    "graffitiCellId": "id_yfkt970",
    "slideshow": {
     "slide_type": "fragment"
    }
   },
   "outputs": [],
   "source": [
    "while True:\n",
    "    x = int(input())\n",
    "    # 如果x是-1，则不应该累加和加计数值，并且离开循环\n",
    "    cnt += 1\n",
    "    s += x"
   ]
  },
  {
   "cell_type": "markdown",
   "metadata": {
    "graffitiCellId": "id_mnos9pc",
    "slideshow": {
     "slide_type": "fragment"
    }
   },
   "source": [
    "\n",
    "$\\Downarrow$\n"
   ]
  },
  {
   "cell_type": "code",
   "execution_count": null,
   "metadata": {
    "graffitiCellId": "id_olz4uod",
    "slideshow": {
     "slide_type": "fragment"
    }
   },
   "outputs": [],
   "source": [
    "while True:\n",
    "    x = int(input())\n",
    "    if x == -1:\n",
    "        break\n",
    "    cnt += 1\n",
    "    s += x"
   ]
  },
  {
   "cell_type": "markdown",
   "metadata": {
    "graffitiCellId": "id_kstw3yi",
    "slideshow": {
     "slide_type": "fragment"
    }
   },
   "source": [
    "\n",
    "* `break`是Python语句，用来离开循环\n",
    "\n"
   ]
  },
  {
   "cell_type": "markdown",
   "metadata": {
    "graffitiCellId": "id_6m1ed3e",
    "slideshow": {
     "slide_type": "slide"
    }
   },
   "source": [
    "\n",
    "## What we've learned today\n",
    "\n",
    "* 输入和输出\n",
    "* 变量\n",
    "* 赋值\n",
    "* 数据类型int和float\n",
    "* if\n",
    "* while True/break"
   ]
  }
 ],
 "metadata": {
  "graffiti": {
   "firstAuthorId": "dev",
   "id": "id_4xqhzpt",
   "language": "EN"
  },
  "kernelspec": {
   "display_name": "Python 3",
   "language": "python",
   "name": "python3"
  },
  "language_info": {
   "codemirror_mode": {
    "name": "ipython",
    "version": 3
   },
   "file_extension": ".py",
   "mimetype": "text/x-python",
   "name": "python",
   "nbconvert_exporter": "python",
   "pygments_lexer": "ipython3",
   "version": "3.7.5"
  }
 },
 "nbformat": 4,
 "nbformat_minor": 2
}
