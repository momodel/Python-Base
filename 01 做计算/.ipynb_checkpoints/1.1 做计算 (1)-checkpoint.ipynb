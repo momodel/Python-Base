{
 "cells": [
  {
   "cell_type": "markdown",
   "metadata": {
    "graffitiCellId": "id_2clvu9q"
   },
   "source": [
    "<center style=\"font-size:30px\">做计算</center>"
   ]
  },
  {
   "cell_type": "markdown",
   "metadata": {
    "graffitiCellId": "id_orhjy3l"
   },
   "source": [
    "\n",
    "## IPO\n",
    "\n",
    "我们的程序可以看作是有两个接口的黑盒\n",
    "![](1-2.png)\n",
    "* 一头是输入\n",
    "* 一头是输出\n",
    "* 中间做计算\n",
    "\n",
    "<span class=\"motutor-highlight motutor-id_orhjy3l-id_xdkngum\"><i></i>遇到题目，思考程序的顺序，是IOP</span>\n",
    "\n"
   ]
  },
  {
   "cell_type": "markdown",
   "metadata": {
    "graffitiCellId": "id_gisx0a6"
   },
   "source": [
    "\n",
    "## 计算圆面积\n",
    "\n",
    "* 输入：圆半径（`raduis`）\n",
    "* 输出：圆面积（`area`）\n",
    "* 计算：计算圆面积 $area = \\pi \\times radius^2$\n",
    "* <span class=\"motutor-highlight motutor-id_gisx0a6-id_1p1cp26\"><i></i>要输入什么、要输出什么</span>\n",
    "    * Python如何读输入的数据\n",
    "    * 如何记录输入的数据，如何记录计算的结果\n",
    "    * 如何产生输出的内容：可能有输出的文字要求和数字格式的要求，如：\n",
    "    `面积是：2.56`\n",
    "* 怎么计算\n",
    "\n"
   ]
  },
  {
   "cell_type": "markdown",
   "metadata": {
    "graffitiCellId": "id_d79qu38"
   },
   "source": [
    "\n",
    "## 输出\n",
    "\n",
    "* <span class=\"motutor-highlight motutor-id_d79qu38-id_pwbkcwb\"><i></i>`print()`</span>\n",
    "    * 是一个函数调用，用来输出一些内容给用户（*使用程序的人*）看\n",
    "* `print`是函数的名字，`()`表示要调用这个函数，在`()`里面的是要传递给函数的值\n",
    "* `print(\"Hello World\")`：输出一段文字， 用双引号（或单引号）括起来的文本叫做**字符串**\n",
    "* `print(3+14-2*3)`：输出一个计算的结果\n",
    "\n"
   ]
  },
  {
   "cell_type": "code",
   "execution_count": null,
   "metadata": {
    "graffitiCellId": "id_23qm51t",
    "slideshow": {
     "slide_type": "fragment"
    }
   },
   "outputs": [],
   "source": [
    "print(12+23)"
   ]
  },
  {
   "cell_type": "markdown",
   "metadata": {
    "graffitiCellId": "id_h5qs7ez"
   },
   "source": [
    "\n",
    "## 输入\n",
    "\n",
    "* <span class=\"motutor-highlight motutor-id_h5qs7ez-id_fbo5b8e\"><i></i>`input()`</span>\n",
    "    * 读入用户输入的一行，作为这个函数计算的结果\n",
    "    * 用户的键盘输入，在按下“回车”键之后才会被程序读到\n",
    "* `print(input())`\n",
    "    * 将这个结果直接给`print`来输出\n",
    "* `shuru = input()`\n",
    "    * 将这个输入的结果**赋**给一个**变量**（赋值）\n",
    "* `print(shuru)`\n",
    "    * 这个变量的值可以再被`print`输出"
   ]
  },
  {
   "cell_type": "code",
   "execution_count": null,
   "metadata": {
    "graffitiCellId": "id_62ni33b"
   },
   "outputs": [],
   "source": [
    "a = input()\n",
    "print(a)\n",
    "print(type(a))"
   ]
  }
 ],
 "metadata": {
  "graffiti": {
   "firstAuthorId": "dev",
   "id": "id_2q0mcnq",
   "language": "EN"
  },
  "kernelspec": {
   "display_name": "Python 3",
   "language": "python",
   "name": "python3"
  },
  "language_info": {
   "codemirror_mode": {
    "name": "ipython",
    "version": 3
   },
   "file_extension": ".py",
   "mimetype": "text/x-python",
   "name": "python",
   "nbconvert_exporter": "python",
   "pygments_lexer": "ipython3",
   "version": "3.7.5"
  }
 },
 "nbformat": 4,
 "nbformat_minor": 2
}
