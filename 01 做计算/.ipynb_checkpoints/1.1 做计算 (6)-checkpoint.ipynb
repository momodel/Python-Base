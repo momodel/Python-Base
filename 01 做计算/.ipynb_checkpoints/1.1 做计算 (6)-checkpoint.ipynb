{
 "cells": [
  {
   "cell_type": "markdown",
   "metadata": {},
   "source": [
    "\n",
    "## 计算时间差\n",
    "\n"
   ]
  },
  {
   "cell_type": "code",
   "execution_count": null,
   "metadata": {
    "slideshow": {
     "slide_type": "fragment"
    }
   },
   "outputs": [],
   "source": [
    "hour1, minute1 = map(int, input().split())\n",
    "hour2, minute2 = map(int, input().split())\n",
    "print(hour1, minute1, hour2, minute2)\n",
    "diff_hour = hour2 - hour1\n",
    "diff_minute = minute2 - minute1\n",
    "print(diff_hour, diff_minute)"
   ]
  },
  {
   "cell_type": "markdown",
   "metadata": {
    "slideshow": {
     "slide_type": "fragment"
    }
   },
   "source": [
    "\n",
    "这对吗？\n",
    "\n"
   ]
  },
  {
   "cell_type": "markdown",
   "metadata": {},
   "source": [
    "## 测试数据"
   ]
  },
  {
   "cell_type": "markdown",
   "metadata": {
    "slideshow": {
     "slide_type": "fragment"
    }
   },
   "source": [
    "如果用\n",
    "```\n",
    "10 30\n",
    "11 45\n",
    "```\n",
    "测试这个程序，结果很正常，但是如果用：\n",
    "```\n",
    "10 30\n",
    "12 15\n",
    "```\n",
    "来测试呢？\n",
    "*测试时要考虑各种可能的情况，一组数据通常不足以反映程序正确与否*"
   ]
  }
 ],
 "metadata": {
  "kernelspec": {
   "display_name": "Python 3",
   "language": "python",
   "name": "python3"
  },
  "language_info": {
   "codemirror_mode": {
    "name": "ipython",
    "version": 3
   },
   "file_extension": ".py",
   "mimetype": "text/x-python",
   "name": "python",
   "nbconvert_exporter": "python",
   "pygments_lexer": "ipython3",
   "version": "3.7.5"
  }
 },
 "nbformat": 4,
 "nbformat_minor": 2
}
