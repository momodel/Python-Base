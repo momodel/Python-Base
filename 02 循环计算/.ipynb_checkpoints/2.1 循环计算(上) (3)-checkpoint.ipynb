{
 "cells": [
  {
   "cell_type": "markdown",
   "metadata": {
    "graffitiCellId": "id_04la586"
   },
   "source": [
    "\n",
    "## <span class=\"motutor-highlight motutor-id_04la586-id_u9x5uol\"><i></i>取余%</span>\n",
    "\n",
    "* 余数remainder的意思是：整除以后留下的部分\n",
    "   * 7%3-->1\n",
    "* %2可以用来判断奇偶性\n",
    "* 遇到负数怎么算？\n",
    "   * `5 % -3` ?\n",
    "   * `-5 % 3` ?\n",
    "   * `-5 % -3` ?\n",
    "\n"
   ]
  },
  {
   "cell_type": "code",
   "execution_count": null,
   "metadata": {
    "graffitiCellId": "id_ya46ov8",
    "slideshow": {
     "slide_type": "fragment"
    }
   },
   "outputs": [],
   "source": [
    "print(5%3)\n",
    "print(5//-3)\n",
    "print(5%-3)\n",
    "print(-5%3)\n",
    "print(-5%-3)"
   ]
  },
  {
   "cell_type": "markdown",
   "metadata": {
    "graffitiCellId": "id_p5c80fl"
   },
   "source": [
    "\n",
    "## 取余应用\n",
    "\n",
    "取余常用于整数分解和数制转换。\n",
    "\n",
    "* 有的行业习惯用四位数字表示时间，如1314表示13点14分\n",
    "* 如果要做时间相关的程序，输入的时间是四位数字，如何从中分解得到时和分？\n",
    "\n",
    "```\n",
    "1314 / 100 —> 13\n",
    "1314 % 100 —> 14\n",
    "```"
   ]
  }
 ],
 "metadata": {
  "graffiti": {
   "firstAuthorId": "dev",
   "id": "id_rhs7nf7",
   "language": "EN"
  },
  "kernelspec": {
   "display_name": "Python 3",
   "language": "python",
   "name": "python3"
  },
  "language_info": {
   "codemirror_mode": {
    "name": "ipython",
    "version": 3
   },
   "file_extension": ".py",
   "mimetype": "text/x-python",
   "name": "python",
   "nbconvert_exporter": "python",
   "pygments_lexer": "ipython3",
   "version": "3.7.5"
  }
 },
 "nbformat": 4,
 "nbformat_minor": 2
}
