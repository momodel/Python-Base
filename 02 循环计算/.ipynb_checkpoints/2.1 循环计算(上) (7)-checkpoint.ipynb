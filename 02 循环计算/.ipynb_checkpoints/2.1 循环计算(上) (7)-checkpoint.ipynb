{
 "cells": [
  {
   "cell_type": "markdown",
   "metadata": {},
   "source": [
    "\n",
    "## 辗转相除Euclid\n",
    "\n",
    "1. 设a, b为两个自然数，欲求a, b的最大公约数\n",
    "2. 若a%b为0，则b就是a, b的最大公约数，计算结束\n",
    "3. 否，则令a为b，而b为原来的a%b，重复步骤2\n",
    "\n"
   ]
  },
  {
   "cell_type": "code",
   "execution_count": null,
   "metadata": {
    "slideshow": {
     "slide_type": "fragment"
    }
   },
   "outputs": [],
   "source": [
    "a, b = map(int, input().split())\n",
    "while True:\n",
    "    r = a%b\n",
    "    if r==0:\n",
    "        break\n",
    "    a = b\n",
    "    b = r\n",
    "print(b)"
   ]
  },
  {
   "cell_type": "markdown",
   "metadata": {},
   "source": [
    "\n",
    "## 辗转相除Euclid\n",
    "\n",
    "为方便实现代码，做一点变形：\n",
    "1. 设a, b为两个自然数，欲求a, b的最大公约数\n",
    "2. 若b为0，则a就是a, b的最大公约数，计算结束\n",
    "3. 否，则令a为b，而b为原来的a%b，重复步骤2\n",
    "\n"
   ]
  },
  {
   "cell_type": "code",
   "execution_count": null,
   "metadata": {
    "slideshow": {
     "slide_type": "fragment"
    }
   },
   "outputs": [],
   "source": [
    "a, b = map(int, input().split())\n",
    "while True:\n",
    "    if b==0:\n",
    "        break\n",
    "    r = a%b\n",
    "    a = b\n",
    "    b = r\n",
    "print(a)"
   ]
  }
 ],
 "metadata": {
  "kernelspec": {
   "display_name": "Python 3",
   "language": "python",
   "name": "python3"
  },
  "language_info": {
   "codemirror_mode": {
    "name": "ipython",
    "version": 3
   },
   "file_extension": ".py",
   "mimetype": "text/x-python",
   "name": "python",
   "nbconvert_exporter": "python",
   "pygments_lexer": "ipython3",
   "version": "3.7.5"
  }
 },
 "nbformat": 4,
 "nbformat_minor": 2
}
