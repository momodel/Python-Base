{
 "cells": [
  {
   "cell_type": "markdown",
   "metadata": {},
   "source": [
    "\n",
    "## 判断整数的符号\n",
    "\n",
    "输入一个整数x，按照下面的规则输出表示符号的数字：\n",
    "\n",
    "$$\n",
    "sign(x)=\\begin{cases}\n",
    "1, x>0\\\\\n",
    "0, x==0\\\\\n",
    "-1, x<0\n",
    "\\end{cases}\n",
    "$$\n",
    "\n",
    "* IPO思维\n",
    "\n"
   ]
  },
  {
   "cell_type": "markdown",
   "metadata": {},
   "source": [
    "\n",
    "## 判断整数的符号\n",
    "\n",
    "$$\n",
    "sign(x)=\\begin{cases}\n",
    "1, x>0\\\\\n",
    "0, x==0\\\\\n",
    "-1, x<0\n",
    "\\end{cases}\n",
    "$$\n",
    "\n"
   ]
  },
  {
   "cell_type": "code",
   "execution_count": null,
   "metadata": {
    "slideshow": {
     "slide_type": "fragment"
    }
   },
   "outputs": [],
   "source": [
    "x = int(input())\n",
    "if x>0:\n",
    "   r=1\n",
    "elif x<0:\n",
    "   r=-1\n",
    "#else:    # 能否没有`else`？\n",
    "#   r=0\n",
    "print(r)"
   ]
  }
 ],
 "metadata": {
  "kernelspec": {
   "display_name": "Python 3",
   "language": "python",
   "name": "python3"
  },
  "language_info": {
   "codemirror_mode": {
    "name": "ipython",
    "version": 3
   },
   "file_extension": ".py",
   "mimetype": "text/x-python",
   "name": "python",
   "nbconvert_exporter": "python",
   "pygments_lexer": "ipython3",
   "version": "3.7.5"
  }
 },
 "nbformat": 4,
 "nbformat_minor": 2
}
