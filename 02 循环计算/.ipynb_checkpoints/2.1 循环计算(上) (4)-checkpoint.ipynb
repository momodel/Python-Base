{
 "cells": [
  {
   "cell_type": "markdown",
   "metadata": {
    "graffitiCellId": "id_ng3ol8e"
   },
   "source": [
    "\n",
    "## 整数分解 \n",
    "\n",
    "* 给出一个三位数，如何分解输出其中的每一位？\n",
    "* 256\n",
    "   * 256 % 10 --> 6\n",
    "   * 256 // 100 --> 2\n",
    "   * 256 ??  --> 5\n",
    "\n"
   ]
  },
  {
   "cell_type": "code",
   "execution_count": null,
   "metadata": {
    "graffitiCellId": "id_o791u1t",
    "slideshow": {
     "slide_type": "fragment"
    }
   },
   "outputs": [],
   "source": [
    "print(256//10%10)\n",
    "print(256%100//10)"
   ]
  },
  {
   "cell_type": "markdown",
   "metadata": {
    "graffitiCellId": "id_we2anj4"
   },
   "source": [
    "\n",
    "## 数整数位数\n",
    "\n",
    "* 读入一个整数，如何给出它的位数？\n",
    "* IPO:\n",
    "   * Input: 整数 x\n",
    "   * Output: 数字个数 n\n",
    "   * Process?\n",
    "\n"
   ]
  },
  {
   "cell_type": "markdown",
   "metadata": {
    "graffitiCellId": "id_rt8tuzk"
   },
   "source": [
    "\n",
    "## 数整数位数\n",
    "\n",
    "1. 对一个整数做`//10`可以去掉它的个位数字\n",
    "2. 重复1的步骤，直到这个数字变成0\n",
    "\n"
   ]
  },
  {
   "cell_type": "code",
   "execution_count": null,
   "metadata": {
    "graffitiCellId": "id_k2pljjb",
    "slideshow": {
     "slide_type": "fragment"
    }
   },
   "outputs": [],
   "source": [
    "x = int(input())\n",
    "cnt = 0\n",
    "while True:\n",
    "   if x==0:\n",
    "      break\n",
    "   cnt += 1\n",
    "   x /= 10\n",
    "print(cnt)"
   ]
  },
  {
   "cell_type": "markdown",
   "metadata": {
    "graffitiCellId": "id_vmaptdz"
   },
   "source": [
    "\n",
    "## <span class=\"motutor-highlight motutor-id_vmaptdz-id_8uq3kc8\"><i></i>手工运行程序</span>\n",
    "\n",
    "* 画出变量表格\n",
    "* 人工执行程序，将变量的每一次变化写在表格上\n",
    "* 当程序执行结束，表格上每一列最后的值就是程序结果\n"
   ]
  },
  {
   "cell_type": "code",
   "execution_count": null,
   "metadata": {
    "graffitiCellId": "id_i2tfi6a",
    "slideshow": {
     "slide_type": "fragment"
    }
   },
   "outputs": [],
   "source": [
    "x = int(input())         #x      cnt\n",
    "cnt = 0\n",
    "while True:\n",
    "   if x==0:\n",
    "      break\n",
    "   cnt += 1\n",
    "   x /= 10\n",
    "print(cnt)"
   ]
  },
  {
   "cell_type": "markdown",
   "metadata": {
    "graffitiCellId": "id_p09cwdd",
    "slideshow": {
     "slide_type": "fragment"
    }
   },
   "source": [
    "\n",
    "\n",
    "*这是理解(zuò)程序(tí)的重要手段之一*\n",
    "\n"
   ]
  }
 ],
 "metadata": {
  "graffiti": {
   "firstAuthorId": "dev",
   "id": "id_q3h1pnp",
   "language": "EN"
  },
  "kernelspec": {
   "display_name": "Python 3",
   "language": "python",
   "name": "python3"
  },
  "language_info": {
   "codemirror_mode": {
    "name": "ipython",
    "version": 3
   },
   "file_extension": ".py",
   "mimetype": "text/x-python",
   "name": "python",
   "nbconvert_exporter": "python",
   "pygments_lexer": "ipython3",
   "version": "3.7.5"
  }
 },
 "nbformat": 4,
 "nbformat_minor": 2
}
