{
 "cells": [
  {
   "cell_type": "markdown",
   "metadata": {
    "graffitiCellId": "id_xp5m13v"
   },
   "source": [
    "\n",
    "## 最大公约数Greatest Common Divisor\n",
    "\n",
    "* 两个自然数a, b的最大公约数是能整除a和b的最大的自然数。\n",
    "* 怎么求？比如18和12的gcd是多少？\n",
    "\n"
   ]
  },
  {
   "cell_type": "markdown",
   "metadata": {
    "graffitiCellId": "id_ea0ybug"
   },
   "source": [
    "\n",
    "## 辗转相除Euclid\n",
    "\n",
    "![](euclid-3.jpg)\n",
    "\n",
    "* 对两数取余，如果互相能整除，那么小的数就是结果；否则继续对除数和余数取余，直到得到结果\n",
    "\n"
   ]
  },
  {
   "cell_type": "markdown",
   "metadata": {
    "graffitiCellId": "id_nrrqbx9"
   },
   "source": [
    "\n",
    "## <span class=\"motutor-highlight motutor-id_nrrqbx9-id_u3gcclt\"><i></i>辗转相除Euclid</span>\n",
    "\n",
    "1. 设a, b为两个自然数，欲求a, b的最大公约数\n",
    "2. 若a%b为0，则b就是a, b的最大公约数，计算结束\n",
    "3. 否，则令a为b，而b为原来的a%b，重复步骤2\n",
    "\n",
    "* 从以上算法描述中不难看出，其中存在一个循环。即2、3两步要不断重复执行，直到发现a%b==0\n",
    "* 据此，可以用一个`while True:`来构成这个循环\n",
    "\n"
   ]
  }
 ],
 "metadata": {
  "graffiti": {
   "firstAuthorId": "dev",
   "id": "id_3brvnng",
   "language": "EN"
  },
  "kernelspec": {
   "display_name": "Python 3",
   "language": "python",
   "name": "python3"
  },
  "language_info": {
   "codemirror_mode": {
    "name": "ipython",
    "version": 3
   },
   "file_extension": ".py",
   "mimetype": "text/x-python",
   "name": "python",
   "nbconvert_exporter": "python",
   "pygments_lexer": "ipython3",
   "version": "3.7.5"
  }
 },
 "nbformat": 4,
 "nbformat_minor": 2
}
