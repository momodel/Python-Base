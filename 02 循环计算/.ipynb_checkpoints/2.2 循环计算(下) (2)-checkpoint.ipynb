{
 "cells": [
  {
   "cell_type": "markdown",
   "metadata": {
    "graffitiCellId": "id_6cc0u7r"
   },
   "source": [
    "\n",
    "## 计算水费\n",
    "\n",
    "为鼓励居民节约用水，自来水公司采取按用水量阶梯式计价的办法，居民应交水费y（元）与月用水量x（吨）相关：\n",
    "\n",
    "$$\n",
    "y= \\begin{cases}\n",
    "\\frac{4x}{3}, x\\leqslant15\\\\\n",
    "2.5x-17.5,x\\gt15\n",
    "\\end{cases}\n",
    "$$\n",
    "\n",
    "输出的小数部分保留2位\n",
    "\n",
    "* IPO思考法则：\n",
    "    * Input：x\n",
    "    * Output：y，`f\"{y:.2f}\"`\n",
    "    * Process：...\n",
    "\n"
   ]
  },
  {
   "cell_type": "markdown",
   "metadata": {
    "graffitiCellId": "id_4bporkt"
   },
   "source": [
    "\n",
    "## 计算水费\n",
    "\n",
    "$$\n",
    "y= \\begin{cases}\n",
    "\\frac{4x}{3}, x\\leqslant15\\\\\n",
    "2.5x-17.5,x\\gt15\n",
    "\\end{cases}\n",
    "$$\n",
    "\n"
   ]
  },
  {
   "cell_type": "code",
   "execution_count": null,
   "metadata": {
    "graffitiCellId": "id_i8l8w94",
    "slideshow": {
     "slide_type": "fragment"
    }
   },
   "outputs": [],
   "source": [
    "x=float(input())\n",
    "if x<=15:\n",
    "   y=4*x/3\n",
    "else:\n",
    "   y=2.5*x-17.5\n",
    "print(f\"{y:.2f}\")"
   ]
  },
  {
   "cell_type": "markdown",
   "metadata": {
    "graffitiCellId": "id_xf3bvtw",
    "slideshow": {
     "slide_type": "fragment"
    }
   },
   "source": [
    "\n",
    "\n",
    "* <span class=\"motutor-highlight motutor-id_xf3bvtw-id_a4dxm85\"><i></i>`else`是Python的关键字，在这里是`if`的一部分</span>\n",
    "* 这个两种情况的分段函数正好表达为一个`if...else`语句\n",
    "* 更多情况的呢？\n",
    "\n"
   ]
  }
 ],
 "metadata": {
  "graffiti": {
   "firstAuthorId": "dev",
   "id": "id_2y5irmz",
   "language": "EN"
  },
  "kernelspec": {
   "display_name": "Python 3",
   "language": "python",
   "name": "python3"
  },
  "language_info": {
   "codemirror_mode": {
    "name": "ipython",
    "version": 3
   },
   "file_extension": ".py",
   "mimetype": "text/x-python",
   "name": "python",
   "nbconvert_exporter": "python",
   "pygments_lexer": "ipython3",
   "version": "3.7.5"
  }
 },
 "nbformat": 4,
 "nbformat_minor": 2
}
