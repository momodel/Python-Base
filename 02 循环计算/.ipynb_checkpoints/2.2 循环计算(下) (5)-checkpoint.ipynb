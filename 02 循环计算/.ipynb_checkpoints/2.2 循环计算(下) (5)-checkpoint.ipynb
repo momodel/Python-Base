{
 "cells": [
  {
   "cell_type": "markdown",
   "metadata": {
    "graffitiCellId": "id_cbsb0ks"
   },
   "source": [
    "\n",
    "## 判断区间\n",
    "\n",
    "如何表达年龄在18到45岁之间的为青年？\n",
    "$$age\\in[18,45]$$\n",
    "* <span class=\"motutor-highlight motutor-id_cbsb0ks-id_7j3147z\"><i></i>方法1：看作是$age\\geq18$并且$age\\leq45$</span>\n"
   ]
  },
  {
   "cell_type": "code",
   "execution_count": null,
   "metadata": {
    "graffitiCellId": "id_wwnm911",
    "slideshow": {
     "slide_type": "fragment"
    }
   },
   "outputs": [],
   "source": [
    "if age>=18 and age <=45:\n",
    "   print(\"青年\")"
   ]
  },
  {
   "cell_type": "markdown",
   "metadata": {
    "graffitiCellId": "id_v701lj8"
   },
   "source": [
    "\n",
    "## 逻辑运算\n",
    "\n",
    "* `and`：与运算。当两个算子的值都是`True`的时候，结果才是`True`\n",
    "* `or`：或运算。当两个算子的值有一个是`True`的时候，结果就是`True`\n",
    "* `not`：非运算。当算子的值为`False`的时候，结果才是`True`\n",
    "\n"
   ]
  },
  {
   "cell_type": "code",
   "execution_count": null,
   "metadata": {
    "graffitiCellId": "id_wrgvu5n",
    "slideshow": {
     "slide_type": "fragment"
    }
   },
   "outputs": [],
   "source": [
    "age <18 or age >45\n",
    "not age>25"
   ]
  },
  {
   "cell_type": "markdown",
   "metadata": {
    "graffitiCellId": "id_92l3gzo"
   },
   "source": [
    "\n",
    "## <span class=\"motutor-highlight motutor-id_92l3gzo-id_giwtrbw\"><i></i>链式比较</span>\n",
    "\n"
   ]
  },
  {
   "cell_type": "code",
   "execution_count": null,
   "metadata": {
    "graffitiCellId": "id_nr8c47a",
    "slideshow": {
     "slide_type": "fragment"
    }
   },
   "outputs": [],
   "source": [
    "age=30\n",
    "print(18 <=age <=45)\n",
    "a,b,c=4,5,6\n",
    "print(a == b == 5)\n",
    "print(a <b ==c)\n",
    "print(a > b < c)"
   ]
  },
  {
   "cell_type": "markdown",
   "metadata": {
    "graffitiCellId": "id_5a94uyu",
    "slideshow": {
     "slide_type": "fragment"
    }
   },
   "source": [
    "\n",
    "* 形如 `a op1 b op2 c`，这里`op1`、`op2`是做比较的关系运算符，Python的计算规则是：`a op1 b and b op2 c`\n",
    "\n"
   ]
  },
  {
   "cell_type": "markdown",
   "metadata": {
    "graffitiCellId": "id_ebsnxop"
   },
   "source": [
    "\n",
    "## 判断区间\n",
    "\n",
    "如何表达年龄在18到45岁之间的为青年？\n",
    "$$age\\in[18,45]$$\n",
    "* 方法2：用链式比较怎么写？\n",
    "\n"
   ]
  },
  {
   "cell_type": "code",
   "execution_count": null,
   "metadata": {
    "graffitiCellId": "id_2zjno3y",
    "slideshow": {
     "slide_type": "fragment"
    }
   },
   "outputs": [],
   "source": []
  },
  {
   "cell_type": "markdown",
   "metadata": {
    "graffitiCellId": "id_zvk40qa",
    "slideshow": {
     "slide_type": "skip"
    }
   },
   "source": [
    "\n",
    "## What we've learned today\n",
    "\n",
    "* `//`和`%`的深入理解和应用\n",
    "* `print`输出时不换行\n",
    "* `#`注释\n",
    "* 连续赋值和同步赋值\n",
    "* 比较运算和逻辑运算\n",
    "* 连缀的`if-elif-else`语句\n",
    "* Euclid算法\n",
    "* 计算Fibonacci数列的动态规划算法"
   ]
  }
 ],
 "metadata": {
  "graffiti": {
   "firstAuthorId": "dev",
   "id": "id_7jnglff",
   "language": "EN"
  },
  "kernelspec": {
   "display_name": "Python 3",
   "language": "python",
   "name": "python3"
  },
  "language_info": {
   "codemirror_mode": {
    "name": "ipython",
    "version": 3
   },
   "file_extension": ".py",
   "mimetype": "text/x-python",
   "name": "python",
   "nbconvert_exporter": "python",
   "pygments_lexer": "ipython3",
   "version": "3.7.5"
  }
 },
 "nbformat": 4,
 "nbformat_minor": 2
}
