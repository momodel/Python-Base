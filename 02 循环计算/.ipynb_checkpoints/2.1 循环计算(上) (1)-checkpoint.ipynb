{
 "cells": [
  {
   "cell_type": "markdown",
   "metadata": {},
   "source": [
    "\n",
    "<center style=\"font-size:30px\">循环计算（上）</center>\n",
    "\n"
   ]
  },
  {
   "cell_type": "markdown",
   "metadata": {},
   "source": [
    "\n",
    "## 程序\n",
    "\n",
    "是由三种东西组成的：\n",
    "\n",
    "* 定义：如函数定义\n",
    "* 计算：如`3.14*radius**2`、`print(area)`\n",
    "* 语句：如\n",
    "\n",
    "```python\n",
    "if diff_minute<0:\n",
    "   diff_minute += 60\n",
    "   diff_hour -= 1\n",
    "```"
   ]
  },
  {
   "cell_type": "markdown",
   "metadata": {},
   "source": [
    "\n",
    "## 计算\n",
    "\n",
    "回顾一下：\n",
    "* 表达式：计算的式子\n",
    "* 表达式是由算子和运算符组成的\n",
    "   * 单个算子也是一个表达式\n",
    "   * 函数调用是一个算子，因此也是一个表达式\n",
    "\n"
   ]
  }
 ],
 "metadata": {
  "kernelspec": {
   "display_name": "Python 3",
   "language": "python",
   "name": "python3"
  },
  "language_info": {
   "codemirror_mode": {
    "name": "ipython",
    "version": 3
   },
   "file_extension": ".py",
   "mimetype": "text/x-python",
   "name": "python",
   "nbconvert_exporter": "python",
   "pygments_lexer": "ipython3",
   "version": "3.7.5"
  }
 },
 "nbformat": 4,
 "nbformat_minor": 2
}
