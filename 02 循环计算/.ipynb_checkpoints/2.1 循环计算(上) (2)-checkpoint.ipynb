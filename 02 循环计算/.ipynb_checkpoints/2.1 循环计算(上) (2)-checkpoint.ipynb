{
 "cells": [
  {
   "cell_type": "markdown",
   "metadata": {
    "graffitiCellId": "id_8ys45pf"
   },
   "source": [
    "\n",
    "## <span class=\"motutor-highlight motutor-id_8ys45pf-id_yhua9x8\"><i></i>除法</span>\n",
    "\n",
    "`/`是普通除法，`//`是整数除法。但是整数除法是把结果的小数部分去掉吗？\n",
    "\n",
    "* `7/2` -->3.5\n",
    "* `7//2` -->3\n",
    "* `7.0//2` -->3.0\n",
    "* `-7//2` -->?\n",
    "* `7//-2` -->?\n",
    "* `-7//-2` -->?\n",
    "\n"
   ]
  },
  {
   "cell_type": "code",
   "execution_count": null,
   "metadata": {
    "graffitiCellId": "id_qefirc7",
    "slideshow": {
     "slide_type": "fragment"
    }
   },
   "outputs": [],
   "source": [
    "print(7.0//2)\n",
    "print(-7/2)\n",
    "print(7//-2)\n",
    "print(-7//2)\n",
    "print(-7//-2)"
   ]
  },
  {
   "cell_type": "markdown",
   "metadata": {
    "graffitiCellId": "id_sfw5447"
   },
   "source": [
    "`/`是普通除法，`//`是整数除法。整数除法是取不大于除法结果的整数\n",
    "\n",
    "$$a//b \\equiv \\lfloor a/b \\rfloor$$"
   ]
  }
 ],
 "metadata": {
  "graffiti": {
   "firstAuthorId": "dev",
   "id": "id_dnn1350",
   "language": "EN"
  },
  "kernelspec": {
   "display_name": "Python 3",
   "language": "python",
   "name": "python3"
  },
  "language_info": {
   "codemirror_mode": {
    "name": "ipython",
    "version": 3
   },
   "file_extension": ".py",
   "mimetype": "text/x-python",
   "name": "python",
   "nbconvert_exporter": "python",
   "pygments_lexer": "ipython3",
   "version": "3.7.5"
  }
 },
 "nbformat": 4,
 "nbformat_minor": 2
}
