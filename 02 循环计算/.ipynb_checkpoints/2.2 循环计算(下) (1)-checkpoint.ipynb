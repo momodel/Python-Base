{
 "cells": [
  {
   "cell_type": "markdown",
   "metadata": {
    "graffitiCellId": "id_fo3wz51"
   },
   "source": [
    "<center style=\"font-size:30px\">循环计算（下）</center>"
   ]
  },
  {
   "cell_type": "markdown",
   "metadata": {
    "graffitiCellId": "id_65t4sh4"
   },
   "source": [
    "\n",
    "## 斐波那契数列Fibonacci\n",
    "\n"
   ]
  },
  {
   "cell_type": "code",
   "execution_count": null,
   "metadata": {
    "graffitiCellId": "id_j9ewcbm",
    "slideshow": {
     "slide_type": "fragment"
    }
   },
   "outputs": [],
   "source": [
    "0、1、1、2、3、5、8、13、21、34..."
   ]
  },
  {
   "cell_type": "markdown",
   "metadata": {
    "graffitiCellId": "id_kru5ruo",
    "slideshow": {
     "slide_type": "fragment"
    }
   },
   "source": [
    "\n",
    "$$\n",
    "f(n)=\\begin{cases}\n",
    "0, n=0\\\\\n",
    "1, n=1\\\\\n",
    "f(n-1)+f(n-2), n>1\n",
    "\\end{cases}\n",
    "$$\n",
    "\n",
    "* 编写程序，输入n，输出不大于n的斐波那契数\n",
    "*注意不是输出f(n)*\n",
    "\n"
   ]
  },
  {
   "cell_type": "markdown",
   "metadata": {
    "graffitiCellId": "id_5d8npo8"
   },
   "source": [
    "\n",
    "## <span class=\"motutor-highlight motutor-id_5d8npo8-id_gcz2jrb\"><i></i>斐波那契数列Fibonacci</span>\n",
    "\n"
   ]
  },
  {
   "cell_type": "code",
   "execution_count": null,
   "metadata": {
    "graffitiCellId": "id_2aqyvwn",
    "slideshow": {
     "slide_type": "fragment"
    }
   },
   "outputs": [],
   "source": [
    "0、1、1、2、3、5、8、13、21、34..."
   ]
  },
  {
   "cell_type": "markdown",
   "metadata": {
    "graffitiCellId": "id_dep3uro",
    "slideshow": {
     "slide_type": "fragment"
    }
   },
   "source": [
    "\n",
    "* 令a,b=0,1\n",
    "* 让a,b两个变量在数列中向后移动\n",
    "   * a=b，而b=(*原来的*) a+b\n",
    "\n"
   ]
  },
  {
   "cell_type": "code",
   "execution_count": null,
   "metadata": {
    "graffitiCellId": "id_sfount0",
    "slideshow": {
     "slide_type": "fragment"
    }
   },
   "outputs": [],
   "source": [
    "n = int(input())\n",
    "a, b = 0, 1\n",
    "while a < n:\n",
    "   print(a)\n",
    "   a, b = b, a+b"
   ]
  },
  {
   "cell_type": "markdown",
   "metadata": {
    "graffitiCellId": "id_nd3kp5n",
    "slideshow": {
     "slide_type": "fragment"
    }
   },
   "source": [
    "\n",
    "\n",
    "*这其实就是最基本的动态规划算法*\n",
    "\n"
   ]
  },
  {
   "cell_type": "markdown",
   "metadata": {
    "graffitiCellId": "id_et7h0bc"
   },
   "source": [
    "\n",
    "## 输出在一行\n",
    "\n"
   ]
  },
  {
   "cell_type": "code",
   "execution_count": null,
   "metadata": {
    "graffitiCellId": "id_mmmgg1x",
    "slideshow": {
     "slide_type": "fragment"
    }
   },
   "outputs": [],
   "source": [
    "n = int(input())\n",
    "a, b = 0, 1\n",
    "while a < n:\n",
    "   print(a, end=', ')\n",
    "   a, b = b, a+b"
   ]
  },
  {
   "cell_type": "markdown",
   "metadata": {
    "graffitiCellId": "id_wgndvvd",
    "slideshow": {
     "slide_type": "fragment"
    }
   },
   "source": [
    "\n",
    "\n",
    "* `print()`里的`end=`用来指定这次输出之后自动输出什么\n",
    "* 默认是`\\n`，表示要换一行\n",
    "\n"
   ]
  }
 ],
 "metadata": {
  "graffiti": {
   "firstAuthorId": "dev",
   "id": "id_npvomhw",
   "language": "EN"
  },
  "kernelspec": {
   "display_name": "Python 3",
   "language": "python",
   "name": "python3"
  },
  "language_info": {
   "codemirror_mode": {
    "name": "ipython",
    "version": 3
   },
   "file_extension": ".py",
   "mimetype": "text/x-python",
   "name": "python",
   "nbconvert_exporter": "python",
   "pygments_lexer": "ipython3",
   "version": "3.7.5"
  }
 },
 "nbformat": 4,
 "nbformat_minor": 2
}
