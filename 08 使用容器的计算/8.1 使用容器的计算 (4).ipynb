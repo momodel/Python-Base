{
 "cells": [
  {
   "cell_type": "markdown",
   "metadata": {
    "graffitiCellId": "id_yaonuid"
   },
   "source": [
    "\n",
    "## <span class=\"motutor-highlight motutor-id_yaonuid-id_dptjy3n\"><i></i>过程</span>\n",
    "\n",
    "* 输入数据\n",
    "    * 不断循环地读入每一行，如果读入的是END，则循环结束\n",
    "    * 如果是学号、姓名关系，那么应该是两个字符串\n",
    "    * 而如果是成绩，应该是三个字符串\n",
    "\n"
   ]
  },
  {
   "cell_type": "code",
   "execution_count": null,
   "metadata": {
    "graffitiCellId": "id_ew3pne1",
    "slideshow": {
     "slide_type": "fragment"
    }
   },
   "outputs": [],
   "source": [
    "while True: \n",
    "    line = input()\n",
    "    if line == 'END': \n",
    "        break\n",
    "    words = line.split()  # 以空格分割输入行\n",
    "    if len(words)==3:\n",
    "        pass #...\n",
    "    else:\n",
    "        pass #..."
   ]
  },
  {
   "cell_type": "markdown",
   "metadata": {
    "graffitiCellId": "id_o7xayk9"
   },
   "source": [
    "\n",
    "## 过程（续）\n",
    "\n",
    "* 如果输入的是学号姓名关系：加⼊`studentid`字典：\n",
    "`studentid[words[0]] = words[1]`\n",
    "* 如果输入的是成绩：要把课程、成绩关系加入到那个学号所对应的学生的成绩字典里\n",
    "    * 如果那个学生之前还没有输入过成绩，还要新建那个字典：\n"
   ]
  },
  {
   "cell_type": "code",
   "execution_count": null,
   "metadata": {
    "graffitiCellId": "id_1557wj8",
    "slideshow": {
     "slide_type": "fragment"
    }
   },
   "outputs": [],
   "source": [
    "score = studentscore.get(word[0], {}) \n",
    "score[words[1]] = words[2] \n",
    "studentscore[word[0]] = score"
   ]
  },
  {
   "cell_type": "markdown",
   "metadata": {
    "graffitiCellId": "id_yf5nko8",
    "slideshow": {
     "slide_type": "fragment"
    }
   },
   "source": [
    "\n",
    "* 同时还需要把这门课程的名字加入课程的集合：\n",
    "`course.add(words[1])`\n",
    "\n"
   ]
  },
  {
   "cell_type": "markdown",
   "metadata": {
    "graffitiCellId": "id_xrtgem6"
   },
   "source": [
    "\n",
    "## <span class=\"motutor-highlight motutor-id_xrtgem6-id_wddw9q1\"><i></i>过程</span>（续2）\n",
    "\n",
    "* 输出数据\n",
    "    * 首先要输出表头\n"
   ]
  },
  {
   "cell_type": "code",
   "execution_count": null,
   "metadata": {
    "graffitiCellId": "id_7siav0m",
    "slideshow": {
     "slide_type": "fragment"
    }
   },
   "outputs": [],
   "source": [
    "coursename = list(course) \n",
    "print(',', end='')\n",
    "#for name in coursename: \n",
    "#    print(','+name, end='') \n",
    "print(*coursename, sep=',')\n",
    "print()"
   ]
  },
  {
   "cell_type": "markdown",
   "metadata": {
    "graffitiCellId": "id_jpzuaoq"
   },
   "source": [
    "\n",
    "## 过程（续3）\n",
    "\n",
    "* 然后要遍历学号、姓名字典，找出所有的学号和姓名，同时找出每个学生的所有成绩\n"
   ]
  },
  {
   "cell_type": "code",
   "execution_count": null,
   "metadata": {
    "graffitiCellId": "id_pyismc3",
    "slideshow": {
     "slide_type": "fragment"
    }
   },
   "outputs": [],
   "source": [
    "for sid in studentid.keys():\n",
    "    print(sid + ',' + studentis[sid], end='') \n",
    "    score = studentscore[sid]\n",
    "    s = 0\n",
    "    cnt = 0\n",
    "    for name in coursename: \n",
    "        print(',', end='')\n",
    "        if name in score: \n",
    "            print(score[name],end='') \n",
    "            s += int(score[name]) \n",
    "            cnt += 1\n",
    "    print(f',{s/cnt}:.1f')"
   ]
  },
  {
   "cell_type": "markdown",
   "metadata": {
    "graffitiCellId": "id_y284ril"
   },
   "source": [
    "\n",
    "\n"
   ]
  },
  {
   "cell_type": "markdown",
   "metadata": {
    "graffitiCellId": "id_mo3ticc"
   },
   "source": [
    "\n",
    "## 本章小结\n",
    "\n",
    "* 集合和字典是两种数据容器\n",
    "* 集合中没有重复的数据，数据没有位置和顺序，不能用索引来存取。集合可以做交、并、差等运算\n",
    "* 字典是用键来存取数据的，数字、字符串和元组都可以作为键。键所对应的值可以是任何类型，数字、字符串甚至列表和字典都可以作为值存放在字典中\n",
    "\n"
   ]
  }
 ],
 "metadata": {
  "graffiti": {
   "firstAuthorId": "dev",
   "id": "id_o9vvpj0",
   "language": "EN"
  },
  "kernelspec": {
   "display_name": "Python 3",
   "language": "python",
   "name": "python3"
  },
  "language_info": {
   "codemirror_mode": {
    "name": "ipython",
    "version": 3
   },
   "file_extension": ".py",
   "mimetype": "text/x-python",
   "name": "python",
   "nbconvert_exporter": "python",
   "pygments_lexer": "ipython3",
   "version": "3.7.5"
  }
 },
 "nbformat": 4,
 "nbformat_minor": 2
}
